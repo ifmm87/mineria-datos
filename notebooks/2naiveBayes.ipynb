{
 "cells": [
  {
   "cell_type": "markdown",
   "metadata": {},
   "source": [
    "# Aplicación de Naive Bayes"
   ]
  },
  {
   "cell_type": "markdown",
   "metadata": {},
   "source": [
    "## Descripción del contexto\n",
    "\n",
    "La AGETIC realizó un estudio con el propósito de integrar tecnologías de software libre a los métodos de enseñanza-aprendizaje en Unidades Educativas Públicas. El objetivo de este estudio es obtener información inicial de información relevante sobre Tecnologías de Información y Comunicación TIC de las las Unidades Educativas Públicas.\n"
   ]
  },
  {
   "attachments": {},
   "cell_type": "markdown",
   "metadata": {},
   "source": [
    "|#|Nombre variable|Tipo|Descripción|\n",
    "|-----|-------|------|------|\n",
    "|#|parte_proyecto_inclusion| string| Esta variable indica si fue parte del proyecto de inclusión digital|\n",
    "|#|sexo|\t  string| Genero del profesor|\n",
    "|#|edad|  string| Edad del profesor|\n",
    "|#|departamento|\t  string| Departamento donde trabaja el profesor|\n",
    "|#|ciudad|\t  string| Ciudad donde trabaja el profesor|\n",
    "|#|unidad_educativa|\t  string| Establecimiento donde trabaja el profesor|\n",
    "|#|nivel_educacion_maximo|string| Nivel de educación del profesor|\n",
    "|#|anios_experiencia|\t number| Anios de experiencia del profesor|\n",
    "|#|tiempo_ue_actual|\t string| Tiempo que el profesor trabaja ene el actual establecimiento educativo|\n",
    "|#|tiempo_ue_actual_num|\t numeric| mi descripcion|\n",
    "|#|area_imparte|\t string| mi descripcion|\n",
    "|#|paso_curso_tec|\t string| mi descripcion|\n",
    "|#|curso|\t string| mi descripcion|\n",
    "|#|pc_casa|\t string| mi descripcion|\n",
    "|#|laptop_escritorio|\t string| mi descripcion|\n",
    "|#|num_pc|\t numeric| mi descripcion|\n",
    "|#|tablet|\t string| mi descripcion|\n",
    "|#|num_tablet|\t numeric| mi descripcion|\n",
    "|#|origen_pc|\t string| mi descripcion|\n",
    "|#|pc_llenado|\t string| mi descripcion|\n",
    "|#|pc_juegos|\t string| mi descripcion|\n",
    "|#|pc_estudio|\t string| mi descripcion|\n",
    "|#|pc_musica|\t string| mi descripcion|\n",
    "|#|pc_redes|\t string| mi descripcion|\n",
    "|#|pc_nada|\t string| mi descripcion|\n",
    "|#|pc_planificar|\t string| mi descripcion|\n",
    "|#|pc_clases|\t string| mi descripcion|\n",
    "|#|pc_videos|\t string| mi descripcion|\n",
    "|#|pc_internet|\t string| mi descripcion|\n",
    "|#|tiene_celular|\t string| mi descripcion|\n",
    "|#|tiene_smartphone|\t string| mi descripcion|\n",
    "|#|cel_llamadas|\t string| mi descripcion|\n",
    "|#|cel_musica|\t string| mi descripcion|\n",
    "|#|cel_juegos|\t string| mi descripcion|\n",
    "|#|cel_fotos|\t string| mi descripcion|\n",
    "|#|cel_redes|\t string| mi descripcion|\n",
    "|#|cel_text|\t string| mi descripcion|\n",
    "|#|cel_videos|\t string| mi descripcion|\n",
    "|#|cel_internet|\t string| mi descripcion|\n",
    "|#|internet_casa|\t string| mi descripcion|\n",
    "|#|internet_movil|\t string| mi descripcion|\n",
    "|#|internet_colegio|\t string| mi descripcion|\n",
    "|#|usa_facebook|\t string| mi descripcion|\n",
    "|#|usa_youtube|\t string| mi descripcion|\n",
    "|#|usa_whatsapp|\t string| mi descripcion|\n",
    "|#|usa_messenger|\t string| mi descripcion|\n",
    "|#|usa_instagram|\t string| mi descripcion|\n",
    "|#|usa_twiter|\t string| mi descripcion|\n",
    "|#|usa_linkedin|\t string| mi descripcion|\n",
    "|#|usa_skype|\t string| mi descripcion|\n",
    "|#|dias_uso_internet|\t numeric| mi descripcion|\n",
    "|#|so|\t string| mi descripcion|\n",
    "|#|conoce_soft_libre|\t string| mi descripcion|\n",
    "|#|existe_laboratorio|\t string| mi descripcion|\n",
    "|#|sabe_inclusion_digital| string| mi descripcion|\n",
    "\n"
   ]
  },
  {
   "cell_type": "code",
   "execution_count": 1,
   "metadata": {},
   "outputs": [],
   "source": [
    "import pandas as pd\n",
    "import matplotlib.pyplot as plt\n",
    "import seaborn as sb\n",
    "import numpy as np\n",
    "from scipy.stats import norm\n",
    "from sklearn.model_selection import train_test_split\n",
    "from sklearn.preprocessing import StandardScaler\n",
    "from sklearn.feature_selection import VarianceThreshold\n",
    "\n",
    "from sklearn.metrics import accuracy_score\n",
    "\n",
    "from sklearn import preprocessing\n",
    "from scipy import stats\n",
    "from pandas import Series, DataFrame\n",
    "from pandas.plotting import autocorrelation_plot\n",
    "from pylab import rcParams\n",
    "from matplotlib import collections as collections\n",
    "from matplotlib.patches import Rectangle\n",
    "from itertools import cycle\n",
    "\n",
    "from mixed_naive_bayes import MixedNB\n",
    "\n",
    "\n",
    "import warnings\n",
    "warnings.filterwarnings('ignore')\n",
    "%matplotlib inline\n",
    "\n",
    "rcParams['figure.figsize'] = 5,4\n",
    "sb.set_style('whitegrid')\n",
    "from numpy import median\n",
    "from numpy import mean\n"
   ]
  },
  {
   "cell_type": "code",
   "execution_count": 2,
   "metadata": {},
   "outputs": [],
   "source": [
    "df = pd.read_csv('../data/profesores_fin.csv')"
   ]
  },
  {
   "cell_type": "code",
   "execution_count": 4,
   "metadata": {},
   "outputs": [
    {
     "data": {
      "text/plain": [
       "Index(['parte_proyecto_inclusion', 'sexo', 'edad', 'departamento', 'ciudad',\n",
       "       'unidad_educativa', 'nivel_educacion_maximo', 'anios_experiencia',\n",
       "       'tiempo_ue_actual', 'tiempo_ue_actual_num', 'area_imparte',\n",
       "       'paso_curso_tec', 'curso', 'pc_casa', 'laptop_escritorio', 'num_pc',\n",
       "       'tablet', 'num_tablet', 'origen_pc', 'pc_llenado', 'pc_juegos',\n",
       "       'pc_estudio', 'pc_musica', 'pc_redes', 'pc_nada', 'pc_planificar',\n",
       "       'pc_clases', 'pc_videos', 'pc_internet', 'tiene_celular',\n",
       "       'tiene_smartphone', 'cel_llamadas', 'cel_musica', 'cel_juegos',\n",
       "       'cel_fotos', 'cel_redes', 'cel_text', 'cel_videos', 'cel_internet',\n",
       "       'internet_casa', 'internet_movil', 'internet_colegio', 'usa_facebook',\n",
       "       'usa_youtube', 'usa_whatsapp', 'usa_messenger', 'usa_instagram',\n",
       "       'usa_twiter', 'usa_linkedin', 'usa_skype', 'dias_uso_internet', 'so',\n",
       "       'conoce_soft_libre', 'existe_laboratorio', 'sabe_inclusion_digital'],\n",
       "      dtype='object')"
      ]
     },
     "execution_count": 4,
     "metadata": {},
     "output_type": "execute_result"
    }
   ],
   "source": [
    "df.head()\n",
    "df.columns\n",
    "#df.info()"
   ]
  },
  {
   "cell_type": "markdown",
   "metadata": {},
   "source": [
    "### Análisis Exploratorio de Datos"
   ]
  },
  {
   "cell_type": "code",
   "execution_count": 5,
   "metadata": {},
   "outputs": [
    {
     "data": {
      "text/plain": [
       "Sí    775\n",
       "No     89\n",
       "Name: tiene_smartphone, dtype: int64"
      ]
     },
     "execution_count": 5,
     "metadata": {},
     "output_type": "execute_result"
    }
   ],
   "source": [
    "#df['nivel_educacion_maximo'].value_counts()\n",
    "df['tiene_smartphone'].value_counts()"
   ]
  },
  {
   "cell_type": "code",
   "execution_count": 8,
   "metadata": {},
   "outputs": [
    {
     "data": {
      "text/plain": [
       "Text(0, 0.5, 'Frecuencia de profesores')"
      ]
     },
     "execution_count": 8,
     "metadata": {},
     "output_type": "execute_result"
    },
    {
     "data": {
      "image/png": "[encoded data removed]",
      "text/plain": [
       "<Figure size 360x288 with 1 Axes>"
      ]
     },
     "metadata": {},
     "output_type": "display_data"
    }
   ],
   "source": [
    "# grafica de \n",
    "pd.crosstab(df.nivel_educacion_maximo,df.target_y).plot(kind='bar')\n",
    "plt.title('Frecuencia de profesores por nivel de educación máximo')\n",
    "plt.xlabel('Nivel de educación máximo')\n",
    "plt.ylabel('Frecuencia de profesores')\n",
    "#plt.savefig('purchase_fre_job')"
   ]
  },
  {
   "cell_type": "code",
   "execution_count": 24,
   "metadata": {},
   "outputs": [
    {
     "data": {
      "text/plain": [
       "Text(0, 0.5, 'Frecuencia de profesores')"
      ]
     },
     "execution_count": 24,
     "metadata": {},
     "output_type": "execute_result"
    },
    {
     "data": {
      "image/png": "[encoded data removed]",
      "text/plain": [
       "<Figure size 360x288 with 1 Axes>"
      ]
     },
     "metadata": {},
     "output_type": "display_data"
    }
   ],
   "source": [
    "# grafica de \n",
    "pd.crosstab(df.parte_proyecto_inclusion,df.target_y).plot(kind='bar')\n",
    "plt.title('Frecuencia de profesores que son parte de un proyecto \\n segun conocimiento de la inclusión digital')\n",
    "plt.xlabel('Forma parte de un proyecto de inclusión')\n",
    "plt.ylabel('Frecuencia de profesores')\n",
    "#plt.savefig('purchase_fre_job')"
   ]
  },
  {
   "cell_type": "markdown",
   "metadata": {},
   "source": [
    "### Aplicación de las técnicas"
   ]
  },
  {
   "cell_type": "code",
   "execution_count": 7,
   "metadata": {},
   "outputs": [
    {
     "data": {
      "text/html": [
       "<div>\n",
       "<style scoped>\n",
       "    .dataframe tbody tr th:only-of-type {\n",
       "        vertical-align: middle;\n",
       "    }\n",
       "\n",
       "    .dataframe tbody tr th {\n",
       "        vertical-align: top;\n",
       "    }\n",
       "\n",
       "    .dataframe thead th {\n",
       "        text-align: right;\n",
       "    }\n",
       "</style>\n",
       "<table border=\"1\" class=\"dataframe\">\n",
       "  <thead>\n",
       "    <tr style=\"text-align: right;\">\n",
       "      <th></th>\n",
       "      <th>parte_proyecto_inclusion</th>\n",
       "      <th>sexo</th>\n",
       "      <th>edad</th>\n",
       "      <th>departamento</th>\n",
       "      <th>ciudad</th>\n",
       "      <th>unidad_educativa</th>\n",
       "      <th>nivel_educacion_maximo</th>\n",
       "      <th>anios_experiencia</th>\n",
       "      <th>tiempo_ue_actual</th>\n",
       "      <th>tiempo_ue_actual_num</th>\n",
       "      <th>...</th>\n",
       "      <th>usa_skype</th>\n",
       "      <th>dias_uso_internet</th>\n",
       "      <th>so</th>\n",
       "      <th>conoce_soft_libre</th>\n",
       "      <th>existe_laboratorio</th>\n",
       "      <th>sabe_inclusion_digital</th>\n",
       "      <th>target_y</th>\n",
       "      <th>pproyinc</th>\n",
       "      <th>neducmax</th>\n",
       "      <th>gender</th>\n",
       "    </tr>\n",
       "  </thead>\n",
       "  <tbody>\n",
       "    <tr>\n",
       "      <th>0</th>\n",
       "      <td>Sí</td>\n",
       "      <td>Masculino</td>\n",
       "      <td>32</td>\n",
       "      <td>Santa Cruz</td>\n",
       "      <td>Santa Cruz de la Sierra</td>\n",
       "      <td>NACIONAL COTOCA</td>\n",
       "      <td>licenciatura</td>\n",
       "      <td>20</td>\n",
       "      <td>Más de un año</td>\n",
       "      <td>15.0</td>\n",
       "      <td>...</td>\n",
       "      <td>No</td>\n",
       "      <td>7.0</td>\n",
       "      <td>Windows</td>\n",
       "      <td>Sí</td>\n",
       "      <td>Sí</td>\n",
       "      <td>Sí</td>\n",
       "      <td>1</td>\n",
       "      <td>1</td>\n",
       "      <td>2</td>\n",
       "      <td>1</td>\n",
       "    </tr>\n",
       "    <tr>\n",
       "      <th>1</th>\n",
       "      <td>Sí</td>\n",
       "      <td>Masculino</td>\n",
       "      <td>38</td>\n",
       "      <td>La Paz</td>\n",
       "      <td>El Alto</td>\n",
       "      <td>PRIMAVERA B</td>\n",
       "      <td>licenciatura</td>\n",
       "      <td>19</td>\n",
       "      <td>Más de un año</td>\n",
       "      <td>5.0</td>\n",
       "      <td>...</td>\n",
       "      <td>No</td>\n",
       "      <td>5.0</td>\n",
       "      <td>Windows</td>\n",
       "      <td>Sí</td>\n",
       "      <td>Sí</td>\n",
       "      <td>Sí</td>\n",
       "      <td>1</td>\n",
       "      <td>1</td>\n",
       "      <td>2</td>\n",
       "      <td>1</td>\n",
       "    </tr>\n",
       "    <tr>\n",
       "      <th>2</th>\n",
       "      <td>Sí</td>\n",
       "      <td>Femenino</td>\n",
       "      <td>54</td>\n",
       "      <td>La Paz</td>\n",
       "      <td>La Paz</td>\n",
       "      <td>DOMINGO FAUSTINO SARMIENTO</td>\n",
       "      <td>especialidad</td>\n",
       "      <td>20</td>\n",
       "      <td>Más de un año</td>\n",
       "      <td>5.0</td>\n",
       "      <td>...</td>\n",
       "      <td>Sí</td>\n",
       "      <td>7.0</td>\n",
       "      <td>Linux</td>\n",
       "      <td>Sí</td>\n",
       "      <td>Sí</td>\n",
       "      <td>Sí</td>\n",
       "      <td>1</td>\n",
       "      <td>1</td>\n",
       "      <td>1</td>\n",
       "      <td>0</td>\n",
       "    </tr>\n",
       "    <tr>\n",
       "      <th>3</th>\n",
       "      <td>Sí</td>\n",
       "      <td>Femenino</td>\n",
       "      <td>54</td>\n",
       "      <td>La Paz</td>\n",
       "      <td>La Paz</td>\n",
       "      <td>ABRAHAM REYES FE Y ALEGRIA</td>\n",
       "      <td>licenciatura</td>\n",
       "      <td>26</td>\n",
       "      <td>Menos de un año</td>\n",
       "      <td>NaN</td>\n",
       "      <td>...</td>\n",
       "      <td>No</td>\n",
       "      <td>5.0</td>\n",
       "      <td>Windows</td>\n",
       "      <td>Sí</td>\n",
       "      <td>Sí</td>\n",
       "      <td>Sí</td>\n",
       "      <td>1</td>\n",
       "      <td>1</td>\n",
       "      <td>2</td>\n",
       "      <td>0</td>\n",
       "    </tr>\n",
       "    <tr>\n",
       "      <th>4</th>\n",
       "      <td>Sí</td>\n",
       "      <td>Masculino</td>\n",
       "      <td>34</td>\n",
       "      <td>La Paz</td>\n",
       "      <td>La Paz</td>\n",
       "      <td>ABRAHAM REYES FE Y ALEGRIA</td>\n",
       "      <td>licenciatura</td>\n",
       "      <td>10</td>\n",
       "      <td>Más de un año</td>\n",
       "      <td>7.0</td>\n",
       "      <td>...</td>\n",
       "      <td>No</td>\n",
       "      <td>7.0</td>\n",
       "      <td>Windows</td>\n",
       "      <td>Sí</td>\n",
       "      <td>Sí</td>\n",
       "      <td>Sí</td>\n",
       "      <td>1</td>\n",
       "      <td>1</td>\n",
       "      <td>2</td>\n",
       "      <td>1</td>\n",
       "    </tr>\n",
       "  </tbody>\n",
       "</table>\n",
       "<p>5 rows × 59 columns</p>\n",
       "</div>"
      ],
      "text/plain": [
       "  parte_proyecto_inclusion       sexo  edad departamento  \\\n",
       "0                       Sí  Masculino    32   Santa Cruz   \n",
       "1                       Sí  Masculino    38       La Paz   \n",
       "2                       Sí   Femenino    54       La Paz   \n",
       "3                       Sí   Femenino    54       La Paz   \n",
       "4                       Sí  Masculino    34       La Paz   \n",
       "\n",
       "                    ciudad            unidad_educativa nivel_educacion_maximo  \\\n",
       "0  Santa Cruz de la Sierra             NACIONAL COTOCA           licenciatura   \n",
       "1                  El Alto                 PRIMAVERA B           licenciatura   \n",
       "2                   La Paz  DOMINGO FAUSTINO SARMIENTO           especialidad   \n",
       "3                   La Paz  ABRAHAM REYES FE Y ALEGRIA           licenciatura   \n",
       "4                   La Paz  ABRAHAM REYES FE Y ALEGRIA           licenciatura   \n",
       "\n",
       "   anios_experiencia tiempo_ue_actual  tiempo_ue_actual_num  ... usa_skype  \\\n",
       "0                 20    Más de un año                  15.0  ...        No   \n",
       "1                 19    Más de un año                   5.0  ...        No   \n",
       "2                 20    Más de un año                   5.0  ...        Sí   \n",
       "3                 26  Menos de un año                   NaN  ...        No   \n",
       "4                 10    Más de un año                   7.0  ...        No   \n",
       "\n",
       "  dias_uso_internet       so conoce_soft_libre existe_laboratorio  \\\n",
       "0               7.0  Windows                Sí                 Sí   \n",
       "1               5.0  Windows                Sí                 Sí   \n",
       "2               7.0    Linux                Sí                 Sí   \n",
       "3               5.0  Windows                Sí                 Sí   \n",
       "4               7.0  Windows                Sí                 Sí   \n",
       "\n",
       "   sabe_inclusion_digital target_y  pproyinc neducmax gender  \n",
       "0                      Sí        1         1        2      1  \n",
       "1                      Sí        1         1        2      1  \n",
       "2                      Sí        1         1        1      0  \n",
       "3                      Sí        1         1        2      0  \n",
       "4                      Sí        1         1        2      1  \n",
       "\n",
       "[5 rows x 59 columns]"
      ]
     },
     "execution_count": 7,
     "metadata": {},
     "output_type": "execute_result"
    }
   ],
   "source": [
    "\n",
    "label_encoder = preprocessing.LabelEncoder()\n",
    "df['target_y'] = label_encoder.fit_transform(df['sabe_inclusion_digital'])\n",
    "df['pproyinc'] = label_encoder.fit_transform(df['parte_proyecto_inclusion'])\n",
    "df['neducmax'] = label_encoder.fit_transform(df['nivel_educacion_maximo'])\n",
    "#df['smartphone'] = label_encoder.fit_transform(df['tiene_smartphone'])\n",
    "df['gender'] = label_encoder.fit_transform(df['sexo'])\n",
    "df.head()"
   ]
  },
  {
   "cell_type": "code",
   "execution_count": 16,
   "metadata": {},
   "outputs": [
    {
     "data": {
      "text/plain": [
       "1    636\n",
       "0    235\n",
       "Name: target_y, dtype: int64"
      ]
     },
     "execution_count": 16,
     "metadata": {},
     "output_type": "execute_result"
    }
   ],
   "source": [
    "#contabilizar las categorias de la variable target\n",
    "df['target_y'].value_counts()"
   ]
  },
  {
   "cell_type": "code",
   "execution_count": 65,
   "metadata": {},
   "outputs": [
    {
     "data": {
      "text/html": [
       "<div>\n",
       "<style scoped>\n",
       "    .dataframe tbody tr th:only-of-type {\n",
       "        vertical-align: middle;\n",
       "    }\n",
       "\n",
       "    .dataframe tbody tr th {\n",
       "        vertical-align: top;\n",
       "    }\n",
       "\n",
       "    .dataframe thead th {\n",
       "        text-align: right;\n",
       "    }\n",
       "</style>\n",
       "<table border=\"1\" class=\"dataframe\">\n",
       "  <thead>\n",
       "    <tr style=\"text-align: right;\">\n",
       "      <th></th>\n",
       "      <th>pproyinc</th>\n",
       "      <th>neducmax</th>\n",
       "      <th>gender</th>\n",
       "      <th>edad</th>\n",
       "      <th>anios_experiencia</th>\n",
       "      <th>target_y</th>\n",
       "    </tr>\n",
       "  </thead>\n",
       "  <tbody>\n",
       "    <tr>\n",
       "      <th>0</th>\n",
       "      <td>1</td>\n",
       "      <td>2</td>\n",
       "      <td>1</td>\n",
       "      <td>32</td>\n",
       "      <td>20</td>\n",
       "      <td>1</td>\n",
       "    </tr>\n",
       "    <tr>\n",
       "      <th>1</th>\n",
       "      <td>1</td>\n",
       "      <td>2</td>\n",
       "      <td>1</td>\n",
       "      <td>38</td>\n",
       "      <td>19</td>\n",
       "      <td>1</td>\n",
       "    </tr>\n",
       "    <tr>\n",
       "      <th>2</th>\n",
       "      <td>1</td>\n",
       "      <td>1</td>\n",
       "      <td>0</td>\n",
       "      <td>54</td>\n",
       "      <td>20</td>\n",
       "      <td>1</td>\n",
       "    </tr>\n",
       "    <tr>\n",
       "      <th>3</th>\n",
       "      <td>1</td>\n",
       "      <td>2</td>\n",
       "      <td>0</td>\n",
       "      <td>54</td>\n",
       "      <td>26</td>\n",
       "      <td>1</td>\n",
       "    </tr>\n",
       "    <tr>\n",
       "      <th>4</th>\n",
       "      <td>1</td>\n",
       "      <td>2</td>\n",
       "      <td>1</td>\n",
       "      <td>34</td>\n",
       "      <td>10</td>\n",
       "      <td>1</td>\n",
       "    </tr>\n",
       "  </tbody>\n",
       "</table>\n",
       "</div>"
      ],
      "text/plain": [
       "   pproyinc  neducmax  gender  edad  anios_experiencia  target_y\n",
       "0         1         2       1    32                 20         1\n",
       "1         1         2       1    38                 19         1\n",
       "2         1         1       0    54                 20         1\n",
       "3         1         2       0    54                 26         1\n",
       "4         1         2       1    34                 10         1"
      ]
     },
     "execution_count": 65,
     "metadata": {},
     "output_type": "execute_result"
    }
   ],
   "source": [
    "nomcol = ['pproyinc','neducmax','gender','edad','anios_experiencia','target_y']\n",
    "df1=df[nomcol]\n",
    "df1.head()"
   ]
  },
  {
   "cell_type": "code",
   "execution_count": 66,
   "metadata": {},
   "outputs": [
    {
     "data": {
      "text/html": [
       "<div>\n",
       "<style scoped>\n",
       "    .dataframe tbody tr th:only-of-type {\n",
       "        vertical-align: middle;\n",
       "    }\n",
       "\n",
       "    .dataframe tbody tr th {\n",
       "        vertical-align: top;\n",
       "    }\n",
       "\n",
       "    .dataframe thead th {\n",
       "        text-align: right;\n",
       "    }\n",
       "</style>\n",
       "<table border=\"1\" class=\"dataframe\">\n",
       "  <thead>\n",
       "    <tr style=\"text-align: right;\">\n",
       "      <th></th>\n",
       "      <th>pproyinc</th>\n",
       "      <th>neducmax</th>\n",
       "      <th>gender</th>\n",
       "      <th>edad</th>\n",
       "      <th>anios_experiencia</th>\n",
       "    </tr>\n",
       "  </thead>\n",
       "  <tbody>\n",
       "    <tr>\n",
       "      <th>0</th>\n",
       "      <td>1</td>\n",
       "      <td>2</td>\n",
       "      <td>1</td>\n",
       "      <td>32</td>\n",
       "      <td>20</td>\n",
       "    </tr>\n",
       "    <tr>\n",
       "      <th>1</th>\n",
       "      <td>1</td>\n",
       "      <td>2</td>\n",
       "      <td>1</td>\n",
       "      <td>38</td>\n",
       "      <td>19</td>\n",
       "    </tr>\n",
       "    <tr>\n",
       "      <th>2</th>\n",
       "      <td>1</td>\n",
       "      <td>1</td>\n",
       "      <td>0</td>\n",
       "      <td>54</td>\n",
       "      <td>20</td>\n",
       "    </tr>\n",
       "    <tr>\n",
       "      <th>3</th>\n",
       "      <td>1</td>\n",
       "      <td>2</td>\n",
       "      <td>0</td>\n",
       "      <td>54</td>\n",
       "      <td>26</td>\n",
       "    </tr>\n",
       "    <tr>\n",
       "      <th>4</th>\n",
       "      <td>1</td>\n",
       "      <td>2</td>\n",
       "      <td>1</td>\n",
       "      <td>34</td>\n",
       "      <td>10</td>\n",
       "    </tr>\n",
       "  </tbody>\n",
       "</table>\n",
       "</div>"
      ],
      "text/plain": [
       "   pproyinc  neducmax  gender  edad  anios_experiencia\n",
       "0         1         2       1    32                 20\n",
       "1         1         2       1    38                 19\n",
       "2         1         1       0    54                 20\n",
       "3         1         2       0    54                 26\n",
       "4         1         2       1    34                 10"
      ]
     },
     "execution_count": 66,
     "metadata": {},
     "output_type": "execute_result"
    }
   ],
   "source": [
    "X= df1[df1.columns[:-1]]\n",
    "y= df1['target_y']\n",
    "X.head()"
   ]
  },
  {
   "cell_type": "code",
   "execution_count": 67,
   "metadata": {},
   "outputs": [],
   "source": [
    "X_train, X_test, y_train, y_test = train_test_split(X, y, test_size=0.3, random_state=25)"
   ]
  },
  {
   "cell_type": "code",
   "execution_count": 68,
   "metadata": {},
   "outputs": [
    {
     "name": "stdout",
     "output_type": "stream",
     "text": [
      "[2 6 2]\n",
      "0.7748091603053435\n"
     ]
    }
   ],
   "source": [
    "clf = MixedNB(categorical_features=[0,1,2])\n",
    "clf.fit(X_train,y_train)\n",
    "y_pred = clf.predict(X_test)\n"
   ]
  },
  {
   "cell_type": "markdown",
   "metadata": {},
   "source": [
    "### Evaluación de Modelos"
   ]
  },
  {
   "cell_type": "code",
   "execution_count": null,
   "metadata": {},
   "outputs": [],
   "source": [
    "print(accuracy_score(y_test, y_pred))"
   ]
  }
 ],
 "metadata": {
  "kernelspec": {
   "display_name": "Python 3",
   "language": "python",
   "name": "python3"
  },
  "language_info": {
   "codemirror_mode": {
    "name": "ipython",
    "version": 3
   },
   "file_extension": ".py",
   "mimetype": "text/x-python",
   "name": "python",
   "nbconvert_exporter": "python",
   "pygments_lexer": "ipython3",
   "version": "3.8.5"
  }
 },
 "nbformat": 4,
 "nbformat_minor": 2
}
