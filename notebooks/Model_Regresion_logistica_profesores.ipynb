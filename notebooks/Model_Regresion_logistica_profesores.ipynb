{
 "cells": [
  {
   "cell_type": "markdown",
   "metadata": {},
   "source": [
    "# Aplicación de Regresión Logística\n",
    "Caso Encuesta de Inclusión Digital a Profesores"
   ]
  },
  {
   "cell_type": "markdown",
   "metadata": {},
   "source": [
    "## Descripción del contexto\n",
    "\n",
    "La AGETIC realizó un estudio con el propósito de integrar tecnologías de software libre a los métodos de enseñanza-aprendizaje en Unidades Educativas Públicas. El objetivo de este estudio es obtener información inicial de información relevante sobre Tecnologías de Información y Comunicación TIC de las las Unidades Educativas Públicas."
   ]
  },
  {
   "cell_type": "markdown",
   "metadata": {},
   "source": [
    "|#|Nombre variable|Tipo|Pregunta de encuesta|\n",
    "|-----|-------|------|------|\n",
    "|#|parte_proyecto_inclusion| string| ¿Fue parte del proyecto Inclusión Digital?|\n",
    "|#|sexo|\t  string|¿Cuál es su sexo?|\n",
    "|#|edad|  string| ¿Cuántos años tiene?|\n",
    "|#|departamento|\t  string|¿En qué departamento se encuentra la unidad educativa de la cual es profesor?   |\n",
    "|#|ciudad|\t  string| ¿En qué ciudad se encuentra la unidad educativa de la cual es profesor?   |\n",
    "|#|unidad_educativa|\t  string|¿Cuál es la Unidad Educativa donde imparte clases?|\n",
    "|#|normalista|\t string| ¿Cuál es el nivel de instrucción adquirido? [Profesor Normalista]|\n",
    "|#|tecnico|\t string| ¿Cuál es el nivel de instrucción adquirido? [Técnico]|\n",
    "|#|licenciatura|\t string|¿Cuál es el nivel de instrucción adquirido? [Licenciatura]|\n",
    "|#|especialidad|\t string|¿Cuál es el nivel de instrucción adquirido? [Especialidad]|\n",
    "|#|maestria|\t string|¿Cuál es el nivel de instrucción adquirido? [Maestría]|\n",
    "|#|doctorado|\t string|¿Cuál es el nivel de instrucción adquirido? [Doctorado]|\n",
    "|#|otro|   string|¿Cuál es el nivel de instrucción adquirido? [Otro]|\n",
    "|#|tiempo_ue_actual|\t string| ¿Cuánto tiempo es profesor de la Unidad Educativa que actualmente imparte clases?|\n",
    "|#|tiempo_ue_actual_num|\t numeric| ¿Cuántos años es profesor de la Unidad Educativa que actualmente imparte clases?|\n",
    "|#|area_imparte|\t string|¿Cúal es el área en la que imparte sus clases?|\n",
    "|#|paso_curso_tec|\t string| ¿Pasó algún tipo de curso o capacitación respecto al uso de tecnologías en aula?|\n",
    "|#|curso|\t string|  ¿Cuál es el curso o capacitación respecto a tecnologías en el aula?|\n",
    "|#|pc_casa|\t string|¿Tienen computadora en su casa?|\n",
    "|#|laptop_escritorio|\t string|¿Es una computadora de escritorio o una laptop?|\n",
    "|#|num_pc|\t numeric|  ¿Cuántas computadoras (escritorio o portátil) tiene?|\n",
    "|#|tablet|\t string|  ¿Tienen tabletas en su casa?|\n",
    "|#|num_tablet|\t numeric| ¿Cuántas tabletas tiene en casa?|\n",
    "|#|origen_pc|\t string|¿La computadora de donde fue obtenida?|\n",
    "|#|pc_llenado|\t string| ¿Cuál es el uso que le da a la computadora de escritorio, portátil o tablet?  [Llenado de formularios y planillas (MINEDU)]|\n",
    "|#|pc_juegos|\t string|¿Cuál es el uso que le da a la computadora de escritorio, portátil o tablet?  [Juegos]|\n",
    "|#|pc_estudio|\t string|¿Cuál es el uso que le da a la computadora de escritorio, portátil o tablet?  [Estudio]|\n",
    "|#|pc_musica|\t string|¿Cuál es el uso que le da a la computadora de escritorio, portátil o tablet?  [Música]|\n",
    "|#|pc_redes|\t string|¿Cuál es el uso que le da a la computadora de escritorio, portátil o tablet?  [Redes Sociales]|\n",
    "|#|pc_nada|\t string|¿Cuál es el uso que le da a la computadora de escritorio, portátil o tablet?  [Ningún uso]|\n",
    "|#|pc_planificar|\t string|¿Cuál es el uso que le da a la computadora de escritorio, portátil o tablet?  [Planificar clases]|\n",
    "|#|pc_clases|\t string| ¿Cuál es el uso que le da a la computadora de escritorio, portátil o tablet?  [Uso en clases]|\n",
    "|#|pc_videos|\t string| ¿Cuál es el uso que le da a la computadora de escritorio, portátil o tablet?  [Vídeos]|\n",
    "|#|pc_internet|\t string|¿Cuál es el uso que le da a la computadora de escritorio, portátil o tablet?  [Internet]|\n",
    "|#|tiene_celular|\t string|¿Tiene Teléfono celular?|\n",
    "|#|tiene_smartphone|\t string|¿El celular con el que cuenta es inteligente (smartphone)?|\n",
    "|#|cel_llamadas|\t string| ¿Qué uso le da al celular?  [Llamadas]|\n",
    "|#|cel_musica|\t string| ¿Qué uso le da al celular?  [Música]|\n",
    "|#|cel_juegos|\t string| ¿Qué uso le da al celular?  [Juegos]|\n",
    "|#|cel_fotos|\t string| ¿Qué uso le da al celular?  [Fotos]|\n",
    "|#|cel_redes|\t string| ¿Qué uso le da al celular?  [Uso de Redes Sociales]|\n",
    "|#|cel_text|\t string| ¿Qué uso le da al celular?  [Mensajes de texto]|\n",
    "|#|cel_videos|\t string| ¿Qué uso le da al celular?  [Vídeos]|\n",
    "|#|cel_internet|\t string| ¿Qué uso le da al celular?  [Internet]|\n",
    "|#|internet_casa|\t string| ¿Tienes acceso a internet en tu casa?|\n",
    "|#|internet_movil|\t string|¿Tiene acceso a internet en su celular móvil?|\n",
    "|#|internet_colegio|\t string| ¿Tienes acceso a internet en el colegio?|\n",
    "|#|usa_facebook|\t string|De las siguientes redes sociales ¿cuáles utiliza? [Facebook]|\n",
    "|#|usa_youtube|\t string| De las siguientes redes sociales ¿cuáles utiliza? [You Tube]|\n",
    "|#|usa_whatsapp|\t string|De las siguientes redes sociales ¿cuáles utiliza? [WhatsApp]|\n",
    "|#|usa_messenger|\t string|De las siguientes redes sociales ¿cuáles utiliza? [Messenger]|\n",
    "|#|usa_instagram|\t string|De las siguientes redes sociales ¿cuáles utiliza? [Instagram]|\n",
    "|#|usa_twiter|\t string|De las siguientes redes sociales ¿cuáles utiliza? [Twitter]|\n",
    "|#|usa_linkedin|\t string|De las siguientes redes sociales ¿cuáles utiliza? [LinkedIn]|\n",
    "|#|usa_skype|\t string|De las siguientes redes sociales ¿cuáles utiliza? [Skype]|\n",
    "|#|dias_uso_internet|\t numeric|¿Cuántos días a la semana utiliza internet?|\n",
    "|#|so|\t string|¿Qué sistema operativo utilizas en tu computadora?|\n",
    "|#|conoce_soft_libre|\t string| ¿Sabes que es el Software Libre?|\n",
    "|#|existe_laboratorio|\t string| En su unidad educativa ¿Existe un aula específica equipada para el uso de computadoras?|\n",
    "|#|sabe_inclusion_digital| string| ¿Sabe de lo que trata el proyecto Inclusión Digital?|"
   ]
  },
  {
   "cell_type": "code",
   "execution_count": 1,
   "metadata": {},
   "outputs": [],
   "source": [
    "import pandas as pd\n",
    "import numpy as np\n",
    "from sklearn import preprocessing\n",
    "import matplotlib.pyplot as plt \n",
    "%matplotlib inline\n",
    "plt.rc(\"font\", size=14)\n",
    "from sklearn.linear_model import LogisticRegression\n",
    "from sklearn.model_selection import train_test_split\n",
    "from sklearn.model_selection import StratifiedKFold, KFold\n",
    "import seaborn as sns\n",
    "sns.set(style=\"white\")\n",
    "sns.set(style=\"whitegrid\", color_codes=True)\n",
    "from sklearn.preprocessing import StandardScaler\n",
    "from sklearn.metrics import confusion_matrix, f1_score,confusion_matrix, mean_squared_error, mean_absolute_error, classification_report, roc_auc_score, roc_curve, precision_score, recall_score\n",
    "from sklearn.model_selection import cross_val_score"
   ]
  },
  {
   "cell_type": "code",
   "execution_count": 2,
   "metadata": {},
   "outputs": [
    {
     "data": {
      "text/html": [
       "<div>\n",
       "<style scoped>\n",
       "    .dataframe tbody tr th:only-of-type {\n",
       "        vertical-align: middle;\n",
       "    }\n",
       "\n",
       "    .dataframe tbody tr th {\n",
       "        vertical-align: top;\n",
       "    }\n",
       "\n",
       "    .dataframe thead th {\n",
       "        text-align: right;\n",
       "    }\n",
       "</style>\n",
       "<table border=\"1\" class=\"dataframe\">\n",
       "  <thead>\n",
       "    <tr style=\"text-align: right;\">\n",
       "      <th></th>\n",
       "      <th>parte_proyecto_inclusion</th>\n",
       "      <th>sexo</th>\n",
       "      <th>edad</th>\n",
       "      <th>departamento</th>\n",
       "      <th>ciudad</th>\n",
       "      <th>unidad_educativa</th>\n",
       "      <th>nivel_educacion_maximo</th>\n",
       "      <th>anios_experiencia</th>\n",
       "      <th>tiempo_ue_actual</th>\n",
       "      <th>tiempo_ue_actual_num</th>\n",
       "      <th>...</th>\n",
       "      <th>usa_messenger</th>\n",
       "      <th>usa_instagram</th>\n",
       "      <th>usa_twiter</th>\n",
       "      <th>usa_linkedin</th>\n",
       "      <th>usa_skype</th>\n",
       "      <th>dias_uso_internet</th>\n",
       "      <th>so</th>\n",
       "      <th>conoce_soft_libre</th>\n",
       "      <th>existe_laboratorio</th>\n",
       "      <th>sabe_inclusion_digital</th>\n",
       "    </tr>\n",
       "  </thead>\n",
       "  <tbody>\n",
       "    <tr>\n",
       "      <th>0</th>\n",
       "      <td>Sí</td>\n",
       "      <td>Masculino</td>\n",
       "      <td>32</td>\n",
       "      <td>Santa Cruz</td>\n",
       "      <td>Santa Cruz de la Sierra</td>\n",
       "      <td>NACIONAL COTOCA</td>\n",
       "      <td>licenciatura</td>\n",
       "      <td>20</td>\n",
       "      <td>Más de un año</td>\n",
       "      <td>15</td>\n",
       "      <td>...</td>\n",
       "      <td>Sí</td>\n",
       "      <td>No</td>\n",
       "      <td>No</td>\n",
       "      <td>No</td>\n",
       "      <td>No</td>\n",
       "      <td>7</td>\n",
       "      <td>Windows</td>\n",
       "      <td>Sí</td>\n",
       "      <td>Sí</td>\n",
       "      <td>Sí</td>\n",
       "    </tr>\n",
       "    <tr>\n",
       "      <th>1</th>\n",
       "      <td>Sí</td>\n",
       "      <td>Masculino</td>\n",
       "      <td>38</td>\n",
       "      <td>La Paz</td>\n",
       "      <td>El Alto</td>\n",
       "      <td>PRIMAVERA B</td>\n",
       "      <td>licenciatura</td>\n",
       "      <td>19</td>\n",
       "      <td>Más de un año</td>\n",
       "      <td>5</td>\n",
       "      <td>...</td>\n",
       "      <td>Sí</td>\n",
       "      <td>No</td>\n",
       "      <td>No</td>\n",
       "      <td>No</td>\n",
       "      <td>No</td>\n",
       "      <td>5</td>\n",
       "      <td>Windows</td>\n",
       "      <td>Sí</td>\n",
       "      <td>Sí</td>\n",
       "      <td>Sí</td>\n",
       "    </tr>\n",
       "    <tr>\n",
       "      <th>2</th>\n",
       "      <td>Sí</td>\n",
       "      <td>Femenino</td>\n",
       "      <td>54</td>\n",
       "      <td>La Paz</td>\n",
       "      <td>La Paz</td>\n",
       "      <td>DOMINGO FAUSTINO SARMIENTO</td>\n",
       "      <td>especialidad</td>\n",
       "      <td>20</td>\n",
       "      <td>Más de un año</td>\n",
       "      <td>5</td>\n",
       "      <td>...</td>\n",
       "      <td>Sí</td>\n",
       "      <td>Sí</td>\n",
       "      <td>Sí</td>\n",
       "      <td>Sí</td>\n",
       "      <td>Sí</td>\n",
       "      <td>7</td>\n",
       "      <td>Linux</td>\n",
       "      <td>Sí</td>\n",
       "      <td>Sí</td>\n",
       "      <td>Sí</td>\n",
       "    </tr>\n",
       "    <tr>\n",
       "      <th>3</th>\n",
       "      <td>Sí</td>\n",
       "      <td>Femenino</td>\n",
       "      <td>54</td>\n",
       "      <td>La Paz</td>\n",
       "      <td>La Paz</td>\n",
       "      <td>ABRAHAM REYES FE Y ALEGRIA</td>\n",
       "      <td>licenciatura</td>\n",
       "      <td>26</td>\n",
       "      <td>Menos de un año</td>\n",
       "      <td>6</td>\n",
       "      <td>...</td>\n",
       "      <td>No</td>\n",
       "      <td>No</td>\n",
       "      <td>No</td>\n",
       "      <td>No</td>\n",
       "      <td>No</td>\n",
       "      <td>5</td>\n",
       "      <td>Windows</td>\n",
       "      <td>Sí</td>\n",
       "      <td>Sí</td>\n",
       "      <td>Sí</td>\n",
       "    </tr>\n",
       "    <tr>\n",
       "      <th>4</th>\n",
       "      <td>Sí</td>\n",
       "      <td>Masculino</td>\n",
       "      <td>34</td>\n",
       "      <td>La Paz</td>\n",
       "      <td>La Paz</td>\n",
       "      <td>ABRAHAM REYES FE Y ALEGRIA</td>\n",
       "      <td>licenciatura</td>\n",
       "      <td>10</td>\n",
       "      <td>Más de un año</td>\n",
       "      <td>7</td>\n",
       "      <td>...</td>\n",
       "      <td>No</td>\n",
       "      <td>No</td>\n",
       "      <td>No</td>\n",
       "      <td>No</td>\n",
       "      <td>No</td>\n",
       "      <td>7</td>\n",
       "      <td>Windows</td>\n",
       "      <td>Sí</td>\n",
       "      <td>Sí</td>\n",
       "      <td>Sí</td>\n",
       "    </tr>\n",
       "  </tbody>\n",
       "</table>\n",
       "<p>5 rows × 55 columns</p>\n",
       "</div>"
      ],
      "text/plain": [
       "  parte_proyecto_inclusion       sexo  edad departamento  \\\n",
       "0                       Sí  Masculino    32   Santa Cruz   \n",
       "1                       Sí  Masculino    38       La Paz   \n",
       "2                       Sí   Femenino    54       La Paz   \n",
       "3                       Sí   Femenino    54       La Paz   \n",
       "4                       Sí  Masculino    34       La Paz   \n",
       "\n",
       "                    ciudad            unidad_educativa nivel_educacion_maximo  \\\n",
       "0  Santa Cruz de la Sierra             NACIONAL COTOCA           licenciatura   \n",
       "1                  El Alto                 PRIMAVERA B           licenciatura   \n",
       "2                   La Paz  DOMINGO FAUSTINO SARMIENTO           especialidad   \n",
       "3                   La Paz  ABRAHAM REYES FE Y ALEGRIA           licenciatura   \n",
       "4                   La Paz  ABRAHAM REYES FE Y ALEGRIA           licenciatura   \n",
       "\n",
       "   anios_experiencia tiempo_ue_actual  tiempo_ue_actual_num  ...  \\\n",
       "0                 20    Más de un año                    15  ...   \n",
       "1                 19    Más de un año                     5  ...   \n",
       "2                 20    Más de un año                     5  ...   \n",
       "3                 26  Menos de un año                     6  ...   \n",
       "4                 10    Más de un año                     7  ...   \n",
       "\n",
       "  usa_messenger usa_instagram usa_twiter usa_linkedin usa_skype  \\\n",
       "0            Sí            No         No           No        No   \n",
       "1            Sí            No         No           No        No   \n",
       "2            Sí            Sí         Sí           Sí        Sí   \n",
       "3            No            No         No           No        No   \n",
       "4            No            No         No           No        No   \n",
       "\n",
       "   dias_uso_internet       so  conoce_soft_libre existe_laboratorio  \\\n",
       "0                  7  Windows                 Sí                 Sí   \n",
       "1                  5  Windows                 Sí                 Sí   \n",
       "2                  7    Linux                 Sí                 Sí   \n",
       "3                  5  Windows                 Sí                 Sí   \n",
       "4                  7  Windows                 Sí                 Sí   \n",
       "\n",
       "  sabe_inclusion_digital  \n",
       "0                     Sí  \n",
       "1                     Sí  \n",
       "2                     Sí  \n",
       "3                     Sí  \n",
       "4                     Sí  \n",
       "\n",
       "[5 rows x 55 columns]"
      ]
     },
     "execution_count": 2,
     "metadata": {},
     "output_type": "execute_result"
    }
   ],
   "source": [
    "#data=pd.read_csv('../data/profesores_fini.csv',sep=';')\n",
    "data=pd.read_excel('../data/profesores_fini.xls',sheet_name='data')\n",
    "data.head()\n",
    "#data.columns\n",
    "#data=data.dropna()\n",
    "#print(data.shape)\n",
    "#print(list(data.columns))"
   ]
  },
  {
   "cell_type": "code",
   "execution_count": 3,
   "metadata": {},
   "outputs": [
    {
     "data": {
      "text/plain": [
       "Sí    636\n",
       "No    235\n",
       "Name: sabe_inclusion_digital, dtype: int64"
      ]
     },
     "execution_count": 3,
     "metadata": {},
     "output_type": "execute_result"
    }
   ],
   "source": [
    "# variable dependiente\n",
    "data['sabe_inclusion_digital'].value_counts()\n",
    "## Necesitaremos remuestreo?"
   ]
  },
  {
   "cell_type": "code",
   "execution_count": 4,
   "metadata": {},
   "outputs": [],
   "source": [
    "# cambiando el nombre de variable\n",
    "df = data.rename(columns={'sabe_inclusion_digital': 'target'})"
   ]
  },
  {
   "cell_type": "code",
   "execution_count": 5,
   "metadata": {},
   "outputs": [
    {
     "data": {
      "text/plain": [
       "Text(0, 0.5, 'Frecuencia de profesores')"
      ]
     },
     "execution_count": 5,
     "metadata": {},
     "output_type": "execute_result"
    },
    {
     "data": {
      "image/png": "[encoded data removed]",
      "text/plain": [
       "<Figure size 432x288 with 1 Axes>"
      ]
     },
     "metadata": {},
     "output_type": "display_data"
    }
   ],
   "source": [
    "# grafica de target vs departamento\n",
    "pd.crosstab(df.departamento,df.target).plot(kind='bar')\n",
    "plt.title('Frecuencia de profesores por Departamento según \\n Conocimiento de Inclusión digital')\n",
    "plt.xlabel('Departamento')\n",
    "plt.ylabel('Frecuencia de profesores')\n",
    "#plt.savefig('purchase_fre_job')"
   ]
  },
  {
   "cell_type": "code",
   "execution_count": 6,
   "metadata": {},
   "outputs": [
    {
     "data": {
      "image/png": "[encoded data removed]",
      "text/plain": [
       "<Figure size 432x288 with 1 Axes>"
      ]
     },
     "metadata": {},
     "output_type": "display_data"
    }
   ],
   "source": [
    "mdf = pd.melt(df[['anios_experiencia','target']], id_vars=['target'], var_name=['anios_experiencia'])  \n",
    "ax = sns.boxplot(x=\"target\", y=\"value\", data=mdf)\n",
    "plt.show()"
   ]
  },
  {
   "cell_type": "markdown",
   "metadata": {},
   "source": [
    "#### No existe valores atipicos, los años de experiencia en enseñanza es creciente con el conocimiento en inclusion digital."
   ]
  },
  {
   "cell_type": "markdown",
   "metadata": {},
   "source": [
    "### Recategorización"
   ]
  },
  {
   "cell_type": "code",
   "execution_count": 7,
   "metadata": {},
   "outputs": [
    {
     "name": "stdout",
     "output_type": "stream",
     "text": [
      "<class 'pandas.core.frame.DataFrame'>\n",
      "RangeIndex: 871 entries, 0 to 870\n",
      "Data columns (total 68 columns):\n",
      " #   Column                    Non-Null Count  Dtype  \n",
      "---  ------                    --------------  -----  \n",
      " 0   parte_proyecto_inclusion  871 non-null    object \n",
      " 1   sexo                      871 non-null    object \n",
      " 2   edad                      871 non-null    int64  \n",
      " 3   departamento              871 non-null    object \n",
      " 4   ciudad                    871 non-null    object \n",
      " 5   unidad_educativa          871 non-null    object \n",
      " 6   nivel_educacion_maximo    871 non-null    object \n",
      " 7   anios_experiencia         871 non-null    int64  \n",
      " 8   tiempo_ue_actual          871 non-null    object \n",
      " 9   tiempo_ue_actual_num      871 non-null    int64  \n",
      " 10  area_imparte              871 non-null    object \n",
      " 11  paso_curso_tec            871 non-null    object \n",
      " 12  curso                     591 non-null    object \n",
      " 13  pc_casa                   871 non-null    object \n",
      " 14  laptop_escritorio         853 non-null    object \n",
      " 15  num_pc                    853 non-null    float64\n",
      " 16  tablet                    871 non-null    object \n",
      " 17  num_tablet                232 non-null    float64\n",
      " 18  origen_pc                 871 non-null    object \n",
      " 19  pc_llenado                871 non-null    object \n",
      " 20  pc_juegos                 871 non-null    object \n",
      " 21  pc_estudio                871 non-null    object \n",
      " 22  pc_musica                 871 non-null    object \n",
      " 23  pc_redes                  871 non-null    object \n",
      " 24  pc_nada                   871 non-null    object \n",
      " 25  pc_planificar             871 non-null    object \n",
      " 26  pc_clases                 871 non-null    object \n",
      " 27  pc_videos                 871 non-null    object \n",
      " 28  pc_internet               871 non-null    object \n",
      " 29  tiene_celular             871 non-null    object \n",
      " 30  tiene_smartphone          871 non-null    object \n",
      " 31  cel_llamadas              864 non-null    object \n",
      " 32  cel_musica                864 non-null    object \n",
      " 33  cel_juegos                864 non-null    object \n",
      " 34  cel_fotos                 864 non-null    object \n",
      " 35  cel_redes                 864 non-null    object \n",
      " 36  cel_text                  864 non-null    object \n",
      " 37  cel_videos                864 non-null    object \n",
      " 38  cel_internet              864 non-null    object \n",
      " 39  internet_casa             871 non-null    object \n",
      " 40  internet_movil            871 non-null    object \n",
      " 41  internet_colegio          871 non-null    object \n",
      " 42  usa_facebook              871 non-null    object \n",
      " 43  usa_youtube               871 non-null    object \n",
      " 44  usa_whatsapp              871 non-null    object \n",
      " 45  usa_messenger             871 non-null    object \n",
      " 46  usa_instagram             871 non-null    object \n",
      " 47  usa_twiter                871 non-null    object \n",
      " 48  usa_linkedin              871 non-null    object \n",
      " 49  usa_skype                 871 non-null    object \n",
      " 50  dias_uso_internet         871 non-null    int64  \n",
      " 51  so                        871 non-null    object \n",
      " 52  conoce_soft_libre         871 non-null    object \n",
      " 53  existe_laboratorio        871 non-null    object \n",
      " 54  target                    871 non-null    object \n",
      " 55  y                         871 non-null    int64  \n",
      " 56  pproyinc                  871 non-null    int64  \n",
      " 57  neducmax                  871 non-null    int64  \n",
      " 58  gender                    871 non-null    int64  \n",
      " 59  areaimpa                  871 non-null    int64  \n",
      " 60  curso_tec                 871 non-null    int64  \n",
      " 61  celsmarthp                871 non-null    int64  \n",
      " 62  tienecelul                871 non-null    int64  \n",
      " 63  pccasa                    871 non-null    int64  \n",
      " 64  existe_labo               871 non-null    int64  \n",
      " 65  conocisoftlibre           871 non-null    int64  \n",
      " 66  usayoutube                871 non-null    int64  \n",
      " 67  pcvideos                  871 non-null    int64  \n",
      "dtypes: float64(2), int64(17), object(49)\n",
      "memory usage: 462.8+ KB\n"
     ]
    }
   ],
   "source": [
    "label_encoder = preprocessing.LabelEncoder()\n",
    "df['y'] = label_encoder.fit_transform(df['target'])\n",
    "df['pproyinc'] = label_encoder.fit_transform(df['parte_proyecto_inclusion'])\n",
    "df['neducmax'] = label_encoder.fit_transform(df['nivel_educacion_maximo'])\n",
    "df['gender'] = label_encoder.fit_transform(df['sexo'])\n",
    "df['areaimpa'] = label_encoder.fit_transform(df['area_imparte'])\n",
    "df['curso_tec'] = label_encoder.fit_transform(df['paso_curso_tec'])\n",
    "df['celsmarthp'] = label_encoder.fit_transform(df['tiene_smartphone'])\n",
    "df['tienecelul'] = label_encoder.fit_transform(df['tiene_celular'])\n",
    "df['pccasa'] = label_encoder.fit_transform(df['pc_casa'])\n",
    "#df['laptopescr'] = label_encoder.fit_transform(df['laptop_escritorio'])\n",
    "df['existe_labo'] = label_encoder.fit_transform(df['existe_laboratorio'])\n",
    "df['conocisoftlibre'] = label_encoder.fit_transform(df['conoce_soft_libre'])\n",
    "#df['pcinternet'] = label_encoder.fit_transform(df['pc_internet'])\n",
    "#df['internetcole'] = label_encoder.fit_transform(df['internet_colegio'])\n",
    "df['usayoutube'] = label_encoder.fit_transform(df['usa_youtube'])\n",
    "df['pcvideos'] = label_encoder.fit_transform(df['pc_videos'])\n",
    "df.head()\n",
    "df.info()"
   ]
  },
  {
   "cell_type": "code",
   "execution_count": 8,
   "metadata": {},
   "outputs": [
    {
     "data": {
      "text/html": [
       "<div>\n",
       "<style scoped>\n",
       "    .dataframe tbody tr th:only-of-type {\n",
       "        vertical-align: middle;\n",
       "    }\n",
       "\n",
       "    .dataframe tbody tr th {\n",
       "        vertical-align: top;\n",
       "    }\n",
       "\n",
       "    .dataframe thead th {\n",
       "        text-align: right;\n",
       "    }\n",
       "</style>\n",
       "<table border=\"1\" class=\"dataframe\">\n",
       "  <thead>\n",
       "    <tr style=\"text-align: right;\">\n",
       "      <th></th>\n",
       "      <th>pproyinc</th>\n",
       "      <th>neducmax</th>\n",
       "      <th>gender</th>\n",
       "      <th>areaimpa</th>\n",
       "      <th>curso_tec</th>\n",
       "      <th>edad</th>\n",
       "      <th>anios_experiencia</th>\n",
       "      <th>celsmarthp</th>\n",
       "      <th>tienecelul</th>\n",
       "      <th>pccasa</th>\n",
       "      <th>tiempo_ue_actual_num</th>\n",
       "      <th>dias_uso_internet</th>\n",
       "      <th>existe_labo</th>\n",
       "      <th>conocisoftlibre</th>\n",
       "      <th>usayoutube</th>\n",
       "      <th>pcvideos</th>\n",
       "      <th>y</th>\n",
       "    </tr>\n",
       "  </thead>\n",
       "  <tbody>\n",
       "    <tr>\n",
       "      <th>0</th>\n",
       "      <td>1</td>\n",
       "      <td>2</td>\n",
       "      <td>1</td>\n",
       "      <td>0</td>\n",
       "      <td>1</td>\n",
       "      <td>32</td>\n",
       "      <td>20</td>\n",
       "      <td>1</td>\n",
       "      <td>1</td>\n",
       "      <td>1</td>\n",
       "      <td>15</td>\n",
       "      <td>7</td>\n",
       "      <td>1</td>\n",
       "      <td>1</td>\n",
       "      <td>1</td>\n",
       "      <td>1</td>\n",
       "      <td>1</td>\n",
       "    </tr>\n",
       "    <tr>\n",
       "      <th>1</th>\n",
       "      <td>1</td>\n",
       "      <td>2</td>\n",
       "      <td>1</td>\n",
       "      <td>1</td>\n",
       "      <td>1</td>\n",
       "      <td>38</td>\n",
       "      <td>19</td>\n",
       "      <td>1</td>\n",
       "      <td>1</td>\n",
       "      <td>1</td>\n",
       "      <td>5</td>\n",
       "      <td>5</td>\n",
       "      <td>1</td>\n",
       "      <td>1</td>\n",
       "      <td>1</td>\n",
       "      <td>1</td>\n",
       "      <td>1</td>\n",
       "    </tr>\n",
       "    <tr>\n",
       "      <th>2</th>\n",
       "      <td>1</td>\n",
       "      <td>1</td>\n",
       "      <td>0</td>\n",
       "      <td>1</td>\n",
       "      <td>1</td>\n",
       "      <td>54</td>\n",
       "      <td>20</td>\n",
       "      <td>0</td>\n",
       "      <td>1</td>\n",
       "      <td>1</td>\n",
       "      <td>5</td>\n",
       "      <td>7</td>\n",
       "      <td>1</td>\n",
       "      <td>1</td>\n",
       "      <td>1</td>\n",
       "      <td>1</td>\n",
       "      <td>1</td>\n",
       "    </tr>\n",
       "    <tr>\n",
       "      <th>3</th>\n",
       "      <td>1</td>\n",
       "      <td>2</td>\n",
       "      <td>0</td>\n",
       "      <td>1</td>\n",
       "      <td>1</td>\n",
       "      <td>54</td>\n",
       "      <td>26</td>\n",
       "      <td>1</td>\n",
       "      <td>1</td>\n",
       "      <td>1</td>\n",
       "      <td>6</td>\n",
       "      <td>5</td>\n",
       "      <td>1</td>\n",
       "      <td>1</td>\n",
       "      <td>1</td>\n",
       "      <td>0</td>\n",
       "      <td>1</td>\n",
       "    </tr>\n",
       "    <tr>\n",
       "      <th>4</th>\n",
       "      <td>1</td>\n",
       "      <td>2</td>\n",
       "      <td>1</td>\n",
       "      <td>0</td>\n",
       "      <td>1</td>\n",
       "      <td>34</td>\n",
       "      <td>10</td>\n",
       "      <td>1</td>\n",
       "      <td>1</td>\n",
       "      <td>1</td>\n",
       "      <td>7</td>\n",
       "      <td>7</td>\n",
       "      <td>1</td>\n",
       "      <td>1</td>\n",
       "      <td>1</td>\n",
       "      <td>1</td>\n",
       "      <td>1</td>\n",
       "    </tr>\n",
       "  </tbody>\n",
       "</table>\n",
       "</div>"
      ],
      "text/plain": [
       "   pproyinc  neducmax  gender  areaimpa  curso_tec  edad  anios_experiencia  \\\n",
       "0         1         2       1         0          1    32                 20   \n",
       "1         1         2       1         1          1    38                 19   \n",
       "2         1         1       0         1          1    54                 20   \n",
       "3         1         2       0         1          1    54                 26   \n",
       "4         1         2       1         0          1    34                 10   \n",
       "\n",
       "   celsmarthp  tienecelul  pccasa  tiempo_ue_actual_num  dias_uso_internet  \\\n",
       "0           1           1       1                    15                  7   \n",
       "1           1           1       1                     5                  5   \n",
       "2           0           1       1                     5                  7   \n",
       "3           1           1       1                     6                  5   \n",
       "4           1           1       1                     7                  7   \n",
       "\n",
       "   existe_labo  conocisoftlibre  usayoutube  pcvideos  y  \n",
       "0            1                1           1         1  1  \n",
       "1            1                1           1         1  1  \n",
       "2            1                1           1         1  1  \n",
       "3            1                1           1         0  1  \n",
       "4            1                1           1         1  1  "
      ]
     },
     "execution_count": 8,
     "metadata": {},
     "output_type": "execute_result"
    }
   ],
   "source": [
    "# Creamos un nuevo dataset con las variables independientes\n",
    "nomcol = ['pproyinc','neducmax','gender','areaimpa','curso_tec','edad','anios_experiencia','celsmarthp',\n",
    "          'tienecelul','pccasa','tiempo_ue_actual_num','dias_uso_internet','existe_labo','conocisoftlibre',\n",
    "          'usayoutube','pcvideos','y']\n",
    "df1=df[nomcol]\n",
    "df1.isnull().sum()\n",
    "df1.head()"
   ]
  },
  {
   "cell_type": "code",
   "execution_count": 9,
   "metadata": {},
   "outputs": [
    {
     "data": {
      "text/plain": [
       "y                       0\n",
       "celsmarthp              0\n",
       "neducmax                0\n",
       "gender                  0\n",
       "areaimpa                0\n",
       "curso_tec               0\n",
       "edad                    0\n",
       "anios_experiencia       0\n",
       "tienecelul              0\n",
       "pcvideos                0\n",
       "pccasa                  0\n",
       "tiempo_ue_actual_num    0\n",
       "dias_uso_internet       0\n",
       "existe_labo             0\n",
       "conocisoftlibre         0\n",
       "usayoutube              0\n",
       "pproyinc                0\n",
       "dtype: int64"
      ]
     },
     "execution_count": 9,
     "metadata": {},
     "output_type": "execute_result"
    }
   ],
   "source": [
    "# contabilizamos el porcentaje de NaN, no existen\n",
    "total = df1.isnull().sum().sort_values(ascending=False)\n",
    "total"
   ]
  },
  {
   "cell_type": "code",
   "execution_count": 10,
   "metadata": {},
   "outputs": [
    {
     "data": {
      "text/plain": [
       "(array([385., 184., 128.,  72.,  57.,  21.,  16.,   6.,   1.,   1.]),\n",
       " array([ 1. ,  5.3,  9.6, 13.9, 18.2, 22.5, 26.8, 31.1, 35.4, 39.7, 44. ]),\n",
       " <a list of 10 Patch objects>)"
      ]
     },
     "execution_count": 10,
     "metadata": {},
     "output_type": "execute_result"
    },
    {
     "data": {
      "image/png": "[encoded data removed]",
      "text/plain": [
       "<Figure size 432x288 with 1 Axes>"
      ]
     },
     "metadata": {},
     "output_type": "display_data"
    }
   ],
   "source": [
    "plt.hist(df1['tiempo_ue_actual_num'])"
   ]
  },
  {
   "cell_type": "code",
   "execution_count": 11,
   "metadata": {},
   "outputs": [
    {
     "data": {
      "text/plain": [
       "(array([  9.,  21.,   0.,  50.,   0.,  58., 112.,   0., 167., 454.]),\n",
       " array([1. , 1.6, 2.2, 2.8, 3.4, 4. , 4.6, 5.2, 5.8, 6.4, 7. ]),\n",
       " <a list of 10 Patch objects>)"
      ]
     },
     "execution_count": 11,
     "metadata": {},
     "output_type": "execute_result"
    },
    {
     "data": {
      "image/png": "[encoded data removed]",
      "text/plain": [
       "<Figure size 432x288 with 1 Axes>"
      ]
     },
     "metadata": {},
     "output_type": "display_data"
    }
   ],
   "source": [
    "plt.hist(df1['dias_uso_internet'])"
   ]
  },
  {
   "cell_type": "markdown",
   "metadata": {},
   "source": [
    "Llenamos los valores faltantes con la media"
   ]
  },
  {
   "cell_type": "code",
   "execution_count": 27,
   "metadata": {},
   "outputs": [
    {
     "name": "stderr",
     "output_type": "stream",
     "text": [
      "<ipython-input-27-9d542a55b99d>:1: SettingWithCopyWarning: \n",
      "A value is trying to be set on a copy of a slice from a DataFrame.\n",
      "Try using .loc[row_indexer,col_indexer] = value instead\n",
      "\n",
      "See the caveats in the documentation: https://pandas.pydata.org/pandas-docs/stable/user_guide/indexing.html#returning-a-view-versus-a-copy\n",
      "  df1['tiempo_ue_actual_num'] = df1['tiempo_ue_actual_num'].fillna(df1['tiempo_ue_actual_num'].mean())\n",
      "<ipython-input-27-9d542a55b99d>:2: SettingWithCopyWarning: \n",
      "A value is trying to be set on a copy of a slice from a DataFrame.\n",
      "Try using .loc[row_indexer,col_indexer] = value instead\n",
      "\n",
      "See the caveats in the documentation: https://pandas.pydata.org/pandas-docs/stable/user_guide/indexing.html#returning-a-view-versus-a-copy\n",
      "  df1['dias_uso_internet'] = df1['dias_uso_internet'].fillna(df1['dias_uso_internet'].mean())\n"
     ]
    },
    {
     "data": {
      "text/html": [
       "<div>\n",
       "<style scoped>\n",
       "    .dataframe tbody tr th:only-of-type {\n",
       "        vertical-align: middle;\n",
       "    }\n",
       "\n",
       "    .dataframe tbody tr th {\n",
       "        vertical-align: top;\n",
       "    }\n",
       "\n",
       "    .dataframe thead th {\n",
       "        text-align: right;\n",
       "    }\n",
       "</style>\n",
       "<table border=\"1\" class=\"dataframe\">\n",
       "  <thead>\n",
       "    <tr style=\"text-align: right;\">\n",
       "      <th></th>\n",
       "      <th>pproyinc</th>\n",
       "      <th>neducmax</th>\n",
       "      <th>gender</th>\n",
       "      <th>areaimpa</th>\n",
       "      <th>curso_tec</th>\n",
       "      <th>edad</th>\n",
       "      <th>anios_experiencia</th>\n",
       "      <th>celsmarthp</th>\n",
       "      <th>tienecelul</th>\n",
       "      <th>pccasa</th>\n",
       "      <th>tiempo_ue_actual_num</th>\n",
       "      <th>dias_uso_internet</th>\n",
       "      <th>existe_labo</th>\n",
       "      <th>conocisoftlibre</th>\n",
       "      <th>usayoutube</th>\n",
       "      <th>pcvideos</th>\n",
       "      <th>y</th>\n",
       "    </tr>\n",
       "  </thead>\n",
       "  <tbody>\n",
       "    <tr>\n",
       "      <th>0</th>\n",
       "      <td>1</td>\n",
       "      <td>2</td>\n",
       "      <td>1</td>\n",
       "      <td>0</td>\n",
       "      <td>1</td>\n",
       "      <td>32</td>\n",
       "      <td>20</td>\n",
       "      <td>1</td>\n",
       "      <td>1</td>\n",
       "      <td>1</td>\n",
       "      <td>15</td>\n",
       "      <td>7</td>\n",
       "      <td>1</td>\n",
       "      <td>1</td>\n",
       "      <td>1</td>\n",
       "      <td>1</td>\n",
       "      <td>1</td>\n",
       "    </tr>\n",
       "    <tr>\n",
       "      <th>1</th>\n",
       "      <td>1</td>\n",
       "      <td>2</td>\n",
       "      <td>1</td>\n",
       "      <td>1</td>\n",
       "      <td>1</td>\n",
       "      <td>38</td>\n",
       "      <td>19</td>\n",
       "      <td>1</td>\n",
       "      <td>1</td>\n",
       "      <td>1</td>\n",
       "      <td>5</td>\n",
       "      <td>5</td>\n",
       "      <td>1</td>\n",
       "      <td>1</td>\n",
       "      <td>1</td>\n",
       "      <td>1</td>\n",
       "      <td>1</td>\n",
       "    </tr>\n",
       "    <tr>\n",
       "      <th>2</th>\n",
       "      <td>1</td>\n",
       "      <td>1</td>\n",
       "      <td>0</td>\n",
       "      <td>1</td>\n",
       "      <td>1</td>\n",
       "      <td>54</td>\n",
       "      <td>20</td>\n",
       "      <td>0</td>\n",
       "      <td>1</td>\n",
       "      <td>1</td>\n",
       "      <td>5</td>\n",
       "      <td>7</td>\n",
       "      <td>1</td>\n",
       "      <td>1</td>\n",
       "      <td>1</td>\n",
       "      <td>1</td>\n",
       "      <td>1</td>\n",
       "    </tr>\n",
       "    <tr>\n",
       "      <th>3</th>\n",
       "      <td>1</td>\n",
       "      <td>2</td>\n",
       "      <td>0</td>\n",
       "      <td>1</td>\n",
       "      <td>1</td>\n",
       "      <td>54</td>\n",
       "      <td>26</td>\n",
       "      <td>1</td>\n",
       "      <td>1</td>\n",
       "      <td>1</td>\n",
       "      <td>6</td>\n",
       "      <td>5</td>\n",
       "      <td>1</td>\n",
       "      <td>1</td>\n",
       "      <td>1</td>\n",
       "      <td>0</td>\n",
       "      <td>1</td>\n",
       "    </tr>\n",
       "    <tr>\n",
       "      <th>4</th>\n",
       "      <td>1</td>\n",
       "      <td>2</td>\n",
       "      <td>1</td>\n",
       "      <td>0</td>\n",
       "      <td>1</td>\n",
       "      <td>34</td>\n",
       "      <td>10</td>\n",
       "      <td>1</td>\n",
       "      <td>1</td>\n",
       "      <td>1</td>\n",
       "      <td>7</td>\n",
       "      <td>7</td>\n",
       "      <td>1</td>\n",
       "      <td>1</td>\n",
       "      <td>1</td>\n",
       "      <td>1</td>\n",
       "      <td>1</td>\n",
       "    </tr>\n",
       "  </tbody>\n",
       "</table>\n",
       "</div>"
      ],
      "text/plain": [
       "   pproyinc  neducmax  gender  areaimpa  curso_tec  edad  anios_experiencia  \\\n",
       "0         1         2       1         0          1    32                 20   \n",
       "1         1         2       1         1          1    38                 19   \n",
       "2         1         1       0         1          1    54                 20   \n",
       "3         1         2       0         1          1    54                 26   \n",
       "4         1         2       1         0          1    34                 10   \n",
       "\n",
       "   celsmarthp  tienecelul  pccasa  tiempo_ue_actual_num  dias_uso_internet  \\\n",
       "0           1           1       1                    15                  7   \n",
       "1           1           1       1                     5                  5   \n",
       "2           0           1       1                     5                  7   \n",
       "3           1           1       1                     6                  5   \n",
       "4           1           1       1                     7                  7   \n",
       "\n",
       "   existe_labo  conocisoftlibre  usayoutube  pcvideos  y  \n",
       "0            1                1           1         1  1  \n",
       "1            1                1           1         1  1  \n",
       "2            1                1           1         1  1  \n",
       "3            1                1           1         0  1  \n",
       "4            1                1           1         1  1  "
      ]
     },
     "execution_count": 27,
     "metadata": {},
     "output_type": "execute_result"
    }
   ],
   "source": [
    "df1['tiempo_ue_actual_num'] = df1['tiempo_ue_actual_num'].fillna(df1['tiempo_ue_actual_num'].mean())\n",
    "df1['dias_uso_internet'] = df1['dias_uso_internet'].fillna(df1['dias_uso_internet'].mean())\n",
    "df1.head()"
   ]
  },
  {
   "cell_type": "markdown",
   "metadata": {},
   "source": [
    "Definimos las variables independientes y dependiente."
   ]
  },
  {
   "cell_type": "code",
   "execution_count": 26,
   "metadata": {},
   "outputs": [
    {
     "data": {
      "text/html": [
       "<div>\n",
       "<style scoped>\n",
       "    .dataframe tbody tr th:only-of-type {\n",
       "        vertical-align: middle;\n",
       "    }\n",
       "\n",
       "    .dataframe tbody tr th {\n",
       "        vertical-align: top;\n",
       "    }\n",
       "\n",
       "    .dataframe thead th {\n",
       "        text-align: right;\n",
       "    }\n",
       "</style>\n",
       "<table border=\"1\" class=\"dataframe\">\n",
       "  <thead>\n",
       "    <tr style=\"text-align: right;\">\n",
       "      <th></th>\n",
       "      <th>pproyinc</th>\n",
       "      <th>neducmax</th>\n",
       "      <th>gender</th>\n",
       "      <th>areaimpa</th>\n",
       "      <th>curso_tec</th>\n",
       "      <th>edad</th>\n",
       "      <th>anios_experiencia</th>\n",
       "      <th>celsmarthp</th>\n",
       "      <th>tienecelul</th>\n",
       "      <th>pccasa</th>\n",
       "      <th>tiempo_ue_actual_num</th>\n",
       "      <th>dias_uso_internet</th>\n",
       "      <th>existe_labo</th>\n",
       "      <th>conocisoftlibre</th>\n",
       "      <th>usayoutube</th>\n",
       "      <th>pcvideos</th>\n",
       "    </tr>\n",
       "  </thead>\n",
       "  <tbody>\n",
       "    <tr>\n",
       "      <th>0</th>\n",
       "      <td>1</td>\n",
       "      <td>2</td>\n",
       "      <td>1</td>\n",
       "      <td>0</td>\n",
       "      <td>1</td>\n",
       "      <td>32</td>\n",
       "      <td>20</td>\n",
       "      <td>1</td>\n",
       "      <td>1</td>\n",
       "      <td>1</td>\n",
       "      <td>15</td>\n",
       "      <td>7</td>\n",
       "      <td>1</td>\n",
       "      <td>1</td>\n",
       "      <td>1</td>\n",
       "      <td>1</td>\n",
       "    </tr>\n",
       "    <tr>\n",
       "      <th>1</th>\n",
       "      <td>1</td>\n",
       "      <td>2</td>\n",
       "      <td>1</td>\n",
       "      <td>1</td>\n",
       "      <td>1</td>\n",
       "      <td>38</td>\n",
       "      <td>19</td>\n",
       "      <td>1</td>\n",
       "      <td>1</td>\n",
       "      <td>1</td>\n",
       "      <td>5</td>\n",
       "      <td>5</td>\n",
       "      <td>1</td>\n",
       "      <td>1</td>\n",
       "      <td>1</td>\n",
       "      <td>1</td>\n",
       "    </tr>\n",
       "    <tr>\n",
       "      <th>2</th>\n",
       "      <td>1</td>\n",
       "      <td>1</td>\n",
       "      <td>0</td>\n",
       "      <td>1</td>\n",
       "      <td>1</td>\n",
       "      <td>54</td>\n",
       "      <td>20</td>\n",
       "      <td>0</td>\n",
       "      <td>1</td>\n",
       "      <td>1</td>\n",
       "      <td>5</td>\n",
       "      <td>7</td>\n",
       "      <td>1</td>\n",
       "      <td>1</td>\n",
       "      <td>1</td>\n",
       "      <td>1</td>\n",
       "    </tr>\n",
       "    <tr>\n",
       "      <th>3</th>\n",
       "      <td>1</td>\n",
       "      <td>2</td>\n",
       "      <td>0</td>\n",
       "      <td>1</td>\n",
       "      <td>1</td>\n",
       "      <td>54</td>\n",
       "      <td>26</td>\n",
       "      <td>1</td>\n",
       "      <td>1</td>\n",
       "      <td>1</td>\n",
       "      <td>6</td>\n",
       "      <td>5</td>\n",
       "      <td>1</td>\n",
       "      <td>1</td>\n",
       "      <td>1</td>\n",
       "      <td>0</td>\n",
       "    </tr>\n",
       "    <tr>\n",
       "      <th>4</th>\n",
       "      <td>1</td>\n",
       "      <td>2</td>\n",
       "      <td>1</td>\n",
       "      <td>0</td>\n",
       "      <td>1</td>\n",
       "      <td>34</td>\n",
       "      <td>10</td>\n",
       "      <td>1</td>\n",
       "      <td>1</td>\n",
       "      <td>1</td>\n",
       "      <td>7</td>\n",
       "      <td>7</td>\n",
       "      <td>1</td>\n",
       "      <td>1</td>\n",
       "      <td>1</td>\n",
       "      <td>1</td>\n",
       "    </tr>\n",
       "  </tbody>\n",
       "</table>\n",
       "</div>"
      ],
      "text/plain": [
       "   pproyinc  neducmax  gender  areaimpa  curso_tec  edad  anios_experiencia  \\\n",
       "0         1         2       1         0          1    32                 20   \n",
       "1         1         2       1         1          1    38                 19   \n",
       "2         1         1       0         1          1    54                 20   \n",
       "3         1         2       0         1          1    54                 26   \n",
       "4         1         2       1         0          1    34                 10   \n",
       "\n",
       "   celsmarthp  tienecelul  pccasa  tiempo_ue_actual_num  dias_uso_internet  \\\n",
       "0           1           1       1                    15                  7   \n",
       "1           1           1       1                     5                  5   \n",
       "2           0           1       1                     5                  7   \n",
       "3           1           1       1                     6                  5   \n",
       "4           1           1       1                     7                  7   \n",
       "\n",
       "   existe_labo  conocisoftlibre  usayoutube  pcvideos  \n",
       "0            1                1           1         1  \n",
       "1            1                1           1         1  \n",
       "2            1                1           1         1  \n",
       "3            1                1           1         0  \n",
       "4            1                1           1         1  "
      ]
     },
     "execution_count": 26,
     "metadata": {},
     "output_type": "execute_result"
    }
   ],
   "source": [
    "X=df1[df1.columns[:-1]]\n",
    "y=df1['y']\n",
    "X.head()"
   ]
  },
  {
   "cell_type": "markdown",
   "metadata": {},
   "source": [
    "#### Hacemos reemuestreo de la muestra"
   ]
  },
  {
   "cell_type": "code",
   "execution_count": 31,
   "metadata": {},
   "outputs": [
    {
     "data": {
      "text/html": [
       "<div>\n",
       "<style scoped>\n",
       "    .dataframe tbody tr th:only-of-type {\n",
       "        vertical-align: middle;\n",
       "    }\n",
       "\n",
       "    .dataframe tbody tr th {\n",
       "        vertical-align: top;\n",
       "    }\n",
       "\n",
       "    .dataframe thead th {\n",
       "        text-align: right;\n",
       "    }\n",
       "</style>\n",
       "<table border=\"1\" class=\"dataframe\">\n",
       "  <thead>\n",
       "    <tr style=\"text-align: right;\">\n",
       "      <th></th>\n",
       "      <th>y</th>\n",
       "    </tr>\n",
       "  </thead>\n",
       "  <tbody>\n",
       "    <tr>\n",
       "      <th>0</th>\n",
       "      <td>0</td>\n",
       "    </tr>\n",
       "    <tr>\n",
       "      <th>1</th>\n",
       "      <td>1</td>\n",
       "    </tr>\n",
       "    <tr>\n",
       "      <th>2</th>\n",
       "      <td>1</td>\n",
       "    </tr>\n",
       "    <tr>\n",
       "      <th>3</th>\n",
       "      <td>1</td>\n",
       "    </tr>\n",
       "    <tr>\n",
       "      <th>4</th>\n",
       "      <td>1</td>\n",
       "    </tr>\n",
       "    <tr>\n",
       "      <th>...</th>\n",
       "      <td>...</td>\n",
       "    </tr>\n",
       "    <tr>\n",
       "      <th>877</th>\n",
       "      <td>0</td>\n",
       "    </tr>\n",
       "    <tr>\n",
       "      <th>878</th>\n",
       "      <td>0</td>\n",
       "    </tr>\n",
       "    <tr>\n",
       "      <th>879</th>\n",
       "      <td>0</td>\n",
       "    </tr>\n",
       "    <tr>\n",
       "      <th>880</th>\n",
       "      <td>0</td>\n",
       "    </tr>\n",
       "    <tr>\n",
       "      <th>881</th>\n",
       "      <td>0</td>\n",
       "    </tr>\n",
       "  </tbody>\n",
       "</table>\n",
       "<p>882 rows × 1 columns</p>\n",
       "</div>"
      ],
      "text/plain": [
       "     y\n",
       "0    0\n",
       "1    1\n",
       "2    1\n",
       "3    1\n",
       "4    1\n",
       "..  ..\n",
       "877  0\n",
       "878  0\n",
       "879  0\n",
       "880  0\n",
       "881  0\n",
       "\n",
       "[882 rows x 1 columns]"
      ]
     },
     "execution_count": 31,
     "metadata": {},
     "output_type": "execute_result"
    }
   ],
   "source": [
    "from imblearn.over_sampling import SMOTE\n",
    "os = SMOTE(random_state = 0)\n",
    "X_train, X_test, y_train, y_test = train_test_split(X, y, test_size=0.3, random_state=25)\n",
    "columns = X_train.columns\n",
    "os_data_X,os_data_y = os.fit_resample(X_train, y_train)\n",
    "os_data_X = pd.DataFrame(data=os_data_X,columns=columns )\n",
    "os_data_y= pd.DataFrame(data=os_data_y,columns=['y'])\n",
    "os_X_train, os_X_test, os_y_train, os_y_test = train_test_split(os_data_X, os_data_y, test_size=0.3, random_state=25)\n",
    "os_data_y"
   ]
  },
  {
   "cell_type": "code",
   "execution_count": 34,
   "metadata": {},
   "outputs": [
    {
     "name": "stdout",
     "output_type": "stream",
     "text": [
      "1    636\n",
      "0    235\n",
      "Name: y, dtype: int64\n",
      "1    441\n",
      "0    441\n",
      "Name: y, dtype: int64\n"
     ]
    }
   ],
   "source": [
    "#X_train.shape\n",
    "#print(X.shape)\n",
    "#print(os_data_X.shape)\n",
    "# Antes del re muestreo\n",
    "print(y.value_counts())\n",
    "# Despues del re muestreo\n",
    "print(os_data_y['y'].value_counts())"
   ]
  },
  {
   "cell_type": "markdown",
   "metadata": {},
   "source": [
    "### Aplicación del Modelo"
   ]
  },
  {
   "cell_type": "code",
   "execution_count": 35,
   "metadata": {},
   "outputs": [
    {
     "name": "stderr",
     "output_type": "stream",
     "text": [
      "/home/ivan/.local/lib/python3.8/site-packages/sklearn/utils/validation.py:63: DataConversionWarning: A column-vector y was passed when a 1d array was expected. Please change the shape of y to (n_samples, ), for example using ravel().\n",
      "  return f(*args, **kwargs)\n"
     ]
    },
    {
     "data": {
      "text/plain": [
       "LogisticRegression(n_jobs=-1, random_state=25)"
      ]
     },
     "execution_count": 35,
     "metadata": {},
     "output_type": "execute_result"
    }
   ],
   "source": [
    "reg = LogisticRegression(multi_class='auto', random_state=25, n_jobs=-1)\n",
    "reg.fit(os_X_train,os_y_train)\n",
    "reg"
   ]
  },
  {
   "cell_type": "code",
   "execution_count": 36,
   "metadata": {},
   "outputs": [
    {
     "name": "stderr",
     "output_type": "stream",
     "text": [
      "/home/ivan/.local/lib/python3.8/site-packages/sklearn/utils/validation.py:63: DataConversionWarning: A column-vector y was passed when a 1d array was expected. Please change the shape of y to (n_samples, ), for example using ravel().\n",
      "  return f(*args, **kwargs)\n",
      "/home/ivan/.local/lib/python3.8/site-packages/sklearn/utils/validation.py:63: DataConversionWarning: A column-vector y was passed when a 1d array was expected. Please change the shape of y to (n_samples, ), for example using ravel().\n",
      "  return f(*args, **kwargs)\n",
      "/home/ivan/.local/lib/python3.8/site-packages/sklearn/utils/validation.py:63: DataConversionWarning: A column-vector y was passed when a 1d array was expected. Please change the shape of y to (n_samples, ), for example using ravel().\n",
      "  return f(*args, **kwargs)\n",
      "/home/ivan/.local/lib/python3.8/site-packages/sklearn/utils/validation.py:63: DataConversionWarning: A column-vector y was passed when a 1d array was expected. Please change the shape of y to (n_samples, ), for example using ravel().\n",
      "  return f(*args, **kwargs)\n",
      "/home/ivan/.local/lib/python3.8/site-packages/sklearn/utils/validation.py:63: DataConversionWarning: A column-vector y was passed when a 1d array was expected. Please change the shape of y to (n_samples, ), for example using ravel().\n",
      "  return f(*args, **kwargs)\n",
      "/home/ivan/.local/lib/python3.8/site-packages/sklearn/utils/validation.py:63: DataConversionWarning: A column-vector y was passed when a 1d array was expected. Please change the shape of y to (n_samples, ), for example using ravel().\n",
      "  return f(*args, **kwargs)\n",
      "/home/ivan/.local/lib/python3.8/site-packages/sklearn/utils/validation.py:63: DataConversionWarning: A column-vector y was passed when a 1d array was expected. Please change the shape of y to (n_samples, ), for example using ravel().\n",
      "  return f(*args, **kwargs)\n",
      "/home/ivan/.local/lib/python3.8/site-packages/sklearn/utils/validation.py:63: DataConversionWarning: A column-vector y was passed when a 1d array was expected. Please change the shape of y to (n_samples, ), for example using ravel().\n",
      "  return f(*args, **kwargs)\n",
      "/home/ivan/.local/lib/python3.8/site-packages/sklearn/utils/validation.py:63: DataConversionWarning: A column-vector y was passed when a 1d array was expected. Please change the shape of y to (n_samples, ), for example using ravel().\n",
      "  return f(*args, **kwargs)\n",
      "/home/ivan/.local/lib/python3.8/site-packages/sklearn/utils/validation.py:63: DataConversionWarning: A column-vector y was passed when a 1d array was expected. Please change the shape of y to (n_samples, ), for example using ravel().\n",
      "  return f(*args, **kwargs)\n"
     ]
    }
   ],
   "source": [
    "pred=reg.predict(os_X_test)\n",
    "reg_cv=cross_val_score(reg, os_X_train, os_y_train, cv=10).mean()"
   ]
  },
  {
   "cell_type": "code",
   "execution_count": 37,
   "metadata": {
    "scrolled": true
   },
   "outputs": [
    {
     "name": "stdout",
     "output_type": "stream",
     "text": [
      "Coef de determinación: 0.718\n",
      "Cross-validation $R^2$: 0.724\n",
      "Precision: 0.712\n",
      "Proporción de verdaderos positivos : 0.754\n",
      "Contribución de la precision ponderada(F1 score): 0.732\n"
     ]
    }
   ],
   "source": [
    "print('Coef de determinación: %.3f' % reg.score(X_test, y_test))\n",
    "print('Cross-validation $R^2$: %0.3f' % reg_cv)\n",
    "print('Precision: %.3f' % precision_score(os_y_test, pred))\n",
    "print('Proporción de verdaderos positivos : %.3f' % recall_score(os_y_test, pred))\n",
    "print('Contribución de la precision ponderada(F1 score): %.3f' % f1_score(os_y_test, pred))"
   ]
  },
  {
   "cell_type": "code",
   "execution_count": 38,
   "metadata": {},
   "outputs": [
    {
     "name": "stdout",
     "output_type": "stream",
     "text": [
      "Precición de modelo logistico para clasificar segun la data test: 0.71\n"
     ]
    }
   ],
   "source": [
    "y_pred =reg.predict(os_X_test)\n",
    "print('Precición de modelo logistico para clasificar segun la data test: {:.2f}'.format(reg.score(os_X_test, os_y_test)))"
   ]
  },
  {
   "cell_type": "markdown",
   "metadata": {},
   "source": [
    "### Calculamos la matriz de confusión"
   ]
  },
  {
   "cell_type": "code",
   "execution_count": 323,
   "metadata": {},
   "outputs": [
    {
     "name": "stdout",
     "output_type": "stream",
     "text": [
      "[[ 83  44]\n",
      " [ 34 104]]\n"
     ]
    }
   ],
   "source": [
    "from sklearn.metrics import confusion_matrix\n",
    "confusion_matrix = confusion_matrix(os_y_test, y_pred)\n",
    "print(confusion_matrix)"
   ]
  },
  {
   "cell_type": "code",
   "execution_count": 39,
   "metadata": {},
   "outputs": [
    {
     "name": "stdout",
     "output_type": "stream",
     "text": [
      "              precision    recall  f1-score   support\n",
      "\n",
      "           0       0.71      0.67      0.69       127\n",
      "           1       0.71      0.75      0.73       138\n",
      "\n",
      "    accuracy                           0.71       265\n",
      "   macro avg       0.71      0.71      0.71       265\n",
      "weighted avg       0.71      0.71      0.71       265\n",
      "\n"
     ]
    }
   ],
   "source": [
    "from sklearn.metrics import classification_report\n",
    "print(classification_report(os_y_test, y_pred))"
   ]
  },
  {
   "cell_type": "code",
   "execution_count": 40,
   "metadata": {},
   "outputs": [
    {
     "data": {
      "image/png": "[encoded data removed]",
      "text/plain": [
       "<Figure size 432x288 with 1 Axes>"
      ]
     },
     "metadata": {},
     "output_type": "display_data"
    }
   ],
   "source": [
    "from sklearn.metrics import roc_auc_score\n",
    "from sklearn.metrics import roc_curve\n",
    "logit_roc_auc = roc_auc_score(y_test, reg.predict(X_test))\n",
    "fpr, tpr, thresholds = roc_curve(y_test, reg.predict_proba(X_test)[:,1])\n",
    "plt.figure()\n",
    "plt.plot(fpr, tpr, label='Regresión Logística (area = %0.2f)' % logit_roc_auc)\n",
    "plt.plot([0, 1], [0, 1],'r--')\n",
    "plt.xlim([0.0, 1.0])\n",
    "plt.ylim([0.0, 1.05])\n",
    "plt.xlabel('Tasa de Falsos Positivos')\n",
    "plt.ylabel('Tasa de Verdaderos positivos')\n",
    "plt.title('pago al mes siguiente')\n",
    "plt.legend(loc=\"lower right\")\n",
    "plt.savefig('Log_ROC')\n",
    "plt.show()"
   ]
  },
  {
   "cell_type": "markdown",
   "metadata": {},
   "source": [
    "# Conclusión"
   ]
  },
  {
   "cell_type": "markdown",
   "metadata": {},
   "source": [
    "* Se puede apreciar que modelo de regresión logistica obtiene una preción del 70%, con una variabilidad explida de la variable dependiente 'conocimiento de inclusión digital' del 70% por parte de las variables independientes, adémas se observa un aumento significativo de la tasa de verdaderos positivos hasta el 75%.\n",
    "* Se pudo constatar que en la seleccion de variables para el Modelo Logístico se utilizó la tecnica de SMOTE para el equilibrio de la varaible de respuesta. \n",
    "* Se observó que las variables como : \"existe laboratorio de computación\",\"forma parte de un proyecto de inclusión\" y  \"conocimiento de software libre\" son altamente significativas  para la explicación de la variable conocimiento de inclusión digital."
   ]
  }
 ],
 "metadata": {
  "kernelspec": {
   "display_name": "Python 3",
   "language": "python",
   "name": "python3"
  },
  "language_info": {
   "codemirror_mode": {
    "name": "ipython",
    "version": 3
   },
   "file_extension": ".py",
   "mimetype": "text/x-python",
   "name": "python",
   "nbconvert_exporter": "python",
   "pygments_lexer": "ipython3",
   "version": "3.8.3"
  }
 },
 "nbformat": 4,
 "nbformat_minor": 4
}
