{
 "cells": [
  {
   "cell_type": "markdown",
   "metadata": {},
   "source": [
    "# Aplicación de Naive Bayes"
   ]
  },
  {
   "cell_type": "markdown",
   "metadata": {},
   "source": [
    "## Descripción del contexto\n",
    "\n",
    "La AGETIC realizó un estudio con el propósito de integrar tecnologías de software libre a los métodos de enseñanza-aprendizaje en Unidades Educativas Públicas. El objetivo de este estudio es obtener información inicial de información relevante sobre Tecnologías de Información y Comunicación TIC de las las Unidades Educativas Públicas.\n"
   ]
  },
  {
   "cell_type": "markdown",
   "metadata": {},
   "source": [
    "|#|Nombre variable|Tipo|Pregunta de encuesta|\n",
    "|-----|-------|------|------|\n",
    "|#|parte_proyecto_inclusion| string| ¿Fue parte del proyecto Inclusión Digital?|\n",
    "|#|sexo|\t  string|¿Cuál es su sexo?|\n",
    "|#|edad|  string| ¿Cuántos años tiene?|\n",
    "|#|departamento|\t  string|¿En qué departamento se encuentra la unidad educativa de la cual es profesor?   |\n",
    "|#|ciudad|\t  string| ¿En qué ciudad se encuentra la unidad educativa de la cual es profesor?   |\n",
    "|#|unidad_educativa|\t  string|¿Cuál es la Unidad Educativa donde imparte clases?|\n",
    "|#|normalista|\t string| ¿Cuál es el nivel de instrucción adquirido? [Profesor Normalista]|\n",
    "|#|tecnico|\t string| ¿Cuál es el nivel de instrucción adquirido? [Técnico]|\n",
    "|#|licenciatura|\t string|¿Cuál es el nivel de instrucción adquirido? [Licenciatura]|\n",
    "|#|especialidad|\t string|¿Cuál es el nivel de instrucción adquirido? [Especialidad]|\n",
    "|#|maestria|\t string|¿Cuál es el nivel de instrucción adquirido? [Maestría]|\n",
    "|#|doctorado|\t string|¿Cuál es el nivel de instrucción adquirido? [Doctorado]|\n",
    "|#|otro|   string|¿Cuál es el nivel de instrucción adquirido? [Otro]|\n",
    "|#|tiempo_ue_actual|\t string| ¿Cuánto tiempo es profesor de la Unidad Educativa que actualmente imparte clases?|\n",
    "|#|tiempo_ue_actual_num|\t numeric| ¿Cuántos años es profesor de la Unidad Educativa que actualmente imparte clases?|\n",
    "|#|area_imparte|\t string|¿Cúal es el área en la que imparte sus clases?|\n",
    "|#|paso_curso_tec|\t string| ¿Pasó algún tipo de curso o capacitación respecto al uso de tecnologías en aula?|\n",
    "|#|curso|\t string|  ¿Cuál es el curso o capacitación respecto a tecnologías en el aula?|\n",
    "|#|pc_casa|\t string|¿Tienen computadora en su casa?|\n",
    "|#|laptop_escritorio|\t string|¿Es una computadora de escritorio o una laptop?|\n",
    "|#|num_pc|\t numeric|  ¿Cuántas computadoras (escritorio o portátil) tiene?|\n",
    "|#|tablet|\t string|  ¿Tienen tabletas en su casa?|\n",
    "|#|num_tablet|\t numeric| ¿Cuántas tabletas tiene en casa?|\n",
    "|#|origen_pc|\t string|¿La computadora de donde fue obtenida?|\n",
    "|#|pc_llenado|\t string| ¿Cuál es el uso que le da a la computadora de escritorio, portátil o tablet?  [Llenado de formularios y planillas (MINEDU)]|\n",
    "|#|pc_juegos|\t string|¿Cuál es el uso que le da a la computadora de escritorio, portátil o tablet?  [Juegos]|\n",
    "|#|pc_estudio|\t string|¿Cuál es el uso que le da a la computadora de escritorio, portátil o tablet?  [Estudio]|\n",
    "|#|pc_musica|\t string|¿Cuál es el uso que le da a la computadora de escritorio, portátil o tablet?  [Música]|\n",
    "|#|pc_redes|\t string|¿Cuál es el uso que le da a la computadora de escritorio, portátil o tablet?  [Redes Sociales]|\n",
    "|#|pc_nada|\t string|¿Cuál es el uso que le da a la computadora de escritorio, portátil o tablet?  [Ningún uso]|\n",
    "|#|pc_planificar|\t string|¿Cuál es el uso que le da a la computadora de escritorio, portátil o tablet?  [Planificar clases]|\n",
    "|#|pc_clases|\t string| ¿Cuál es el uso que le da a la computadora de escritorio, portátil o tablet?  [Uso en clases]|\n",
    "|#|pc_videos|\t string| ¿Cuál es el uso que le da a la computadora de escritorio, portátil o tablet?  [Vídeos]|\n",
    "|#|pc_internet|\t string|¿Cuál es el uso que le da a la computadora de escritorio, portátil o tablet?  [Internet]|\n",
    "|#|tiene_celular|\t string|¿Tiene Teléfono celular?|\n",
    "|#|tiene_smartphone|\t string|¿El celular con el que cuenta es inteligente (smartphone)?|\n",
    "|#|cel_llamadas|\t string| ¿Qué uso le da al celular?  [Llamadas]|\n",
    "|#|cel_musica|\t string| ¿Qué uso le da al celular?  [Música]|\n",
    "|#|cel_juegos|\t string| ¿Qué uso le da al celular?  [Juegos]|\n",
    "|#|cel_fotos|\t string| ¿Qué uso le da al celular?  [Fotos]|\n",
    "|#|cel_redes|\t string| ¿Qué uso le da al celular?  [Uso de Redes Sociales]|\n",
    "|#|cel_text|\t string| ¿Qué uso le da al celular?  [Mensajes de texto]|\n",
    "|#|cel_videos|\t string| ¿Qué uso le da al celular?  [Vídeos]|\n",
    "|#|cel_internet|\t string| ¿Qué uso le da al celular?  [Internet]|\n",
    "|#|internet_casa|\t string| ¿Tienes acceso a internet en tu casa?|\n",
    "|#|internet_movil|\t string|¿Tiene acceso a internet en su celular móvil?|\n",
    "|#|internet_colegio|\t string| ¿Tienes acceso a internet en el colegio?|\n",
    "|#|usa_facebook|\t string|De las siguientes redes sociales ¿cuáles utiliza? [Facebook]|\n",
    "|#|usa_youtube|\t string| De las siguientes redes sociales ¿cuáles utiliza? [You Tube]|\n",
    "|#|usa_whatsapp|\t string|De las siguientes redes sociales ¿cuáles utiliza? [WhatsApp]|\n",
    "|#|usa_messenger|\t string|De las siguientes redes sociales ¿cuáles utiliza? [Messenger]|\n",
    "|#|usa_instagram|\t string|De las siguientes redes sociales ¿cuáles utiliza? [Instagram]|\n",
    "|#|usa_twiter|\t string|De las siguientes redes sociales ¿cuáles utiliza? [Twitter]|\n",
    "|#|usa_linkedin|\t string|De las siguientes redes sociales ¿cuáles utiliza? [LinkedIn]|\n",
    "|#|usa_skype|\t string|De las siguientes redes sociales ¿cuáles utiliza? [Skype]|\n",
    "|#|dias_uso_internet|\t numeric|¿Cuántos días a la semana utiliza internet?|\n",
    "|#|so|\t string|¿Qué sistema operativo utilizas en tu computadora?|\n",
    "|#|conoce_soft_libre|\t string| ¿Sabes que es el Software Libre?|\n",
    "|#|existe_laboratorio|\t string| En su unidad educativa ¿Existe un aula específica equipada para el uso de computadoras?|\n",
    "|#|sabe_inclusion_digital| string| ¿Sabe de lo que trata el proyecto Inclusión Digital?|\n",
    "\n"
   ]
  },
  {
   "cell_type": "code",
   "execution_count": 1,
   "metadata": {},
   "outputs": [],
   "source": [
    "import pandas as pd\n",
    "import matplotlib.pyplot as plt\n",
    "import seaborn as sb\n",
    "import numpy as np\n",
    "from scipy.stats import norm\n",
    "from sklearn.model_selection import train_test_split\n",
    "from sklearn.preprocessing import StandardScaler\n",
    "from sklearn.feature_selection import VarianceThreshold\n",
    "\n",
    "from sklearn.metrics import accuracy_score\n",
    "\n",
    "from sklearn import preprocessing\n",
    "from scipy import stats\n",
    "from pandas import Series, DataFrame\n",
    "from pandas.plotting import autocorrelation_plot\n",
    "from pylab import rcParams\n",
    "from matplotlib import collections as collections\n",
    "from matplotlib.patches import Rectangle\n",
    "from itertools import cycle\n",
    "\n",
    "from mixed_naive_bayes import MixedNB\n",
    "\n",
    "import warnings\n",
    "warnings.filterwarnings('ignore')\n",
    "%matplotlib inline\n",
    "\n",
    "rcParams['figure.figsize'] = 5,4\n",
    "sb.set_style('whitegrid')\n",
    "from numpy import median\n",
    "from numpy import mean"
   ]
  },
  {
   "cell_type": "code",
   "execution_count": 2,
   "metadata": {},
   "outputs": [],
   "source": [
    "df = pd.read_csv('../data/profesores_fin.csv')"
   ]
  },
  {
   "cell_type": "markdown",
   "metadata": {},
   "source": [
    "#### Verificando la estructura del dataset"
   ]
  },
  {
   "cell_type": "code",
   "execution_count": 10,
   "metadata": {},
   "outputs": [
    {
     "data": {
      "text/html": [
       "<div>\n",
       "<style scoped>\n",
       "    .dataframe tbody tr th:only-of-type {\n",
       "        vertical-align: middle;\n",
       "    }\n",
       "\n",
       "    .dataframe tbody tr th {\n",
       "        vertical-align: top;\n",
       "    }\n",
       "\n",
       "    .dataframe thead th {\n",
       "        text-align: right;\n",
       "    }\n",
       "</style>\n",
       "<table border=\"1\" class=\"dataframe\">\n",
       "  <thead>\n",
       "    <tr style=\"text-align: right;\">\n",
       "      <th></th>\n",
       "      <th>parte_proyecto_inclusion</th>\n",
       "      <th>sexo</th>\n",
       "      <th>edad</th>\n",
       "      <th>departamento</th>\n",
       "      <th>ciudad</th>\n",
       "      <th>unidad_educativa</th>\n",
       "      <th>nivel_educacion_maximo</th>\n",
       "      <th>anios_experiencia</th>\n",
       "      <th>tiempo_ue_actual</th>\n",
       "      <th>tiempo_ue_actual_num</th>\n",
       "      <th>...</th>\n",
       "      <th>usa_messenger</th>\n",
       "      <th>usa_instagram</th>\n",
       "      <th>usa_twiter</th>\n",
       "      <th>usa_linkedin</th>\n",
       "      <th>usa_skype</th>\n",
       "      <th>dias_uso_internet</th>\n",
       "      <th>so</th>\n",
       "      <th>conoce_soft_libre</th>\n",
       "      <th>existe_laboratorio</th>\n",
       "      <th>sabe_inclusion_digital</th>\n",
       "    </tr>\n",
       "  </thead>\n",
       "  <tbody>\n",
       "    <tr>\n",
       "      <th>866</th>\n",
       "      <td>Sí</td>\n",
       "      <td>Femenino</td>\n",
       "      <td>36</td>\n",
       "      <td>Chuquisaca</td>\n",
       "      <td>Sucre</td>\n",
       "      <td>JOSEFINA GOYTIA</td>\n",
       "      <td>licenciatura</td>\n",
       "      <td>10</td>\n",
       "      <td>Más de un año</td>\n",
       "      <td>7.0</td>\n",
       "      <td>...</td>\n",
       "      <td>No</td>\n",
       "      <td>No</td>\n",
       "      <td>No</td>\n",
       "      <td>No</td>\n",
       "      <td>No</td>\n",
       "      <td>7.0</td>\n",
       "      <td>Windows</td>\n",
       "      <td>No</td>\n",
       "      <td>No</td>\n",
       "      <td>Sí</td>\n",
       "    </tr>\n",
       "    <tr>\n",
       "      <th>867</th>\n",
       "      <td>Sí</td>\n",
       "      <td>Femenino</td>\n",
       "      <td>47</td>\n",
       "      <td>Chuquisaca</td>\n",
       "      <td>Sucre</td>\n",
       "      <td>ADEMAR CARVAJAL</td>\n",
       "      <td>licenciatura</td>\n",
       "      <td>22</td>\n",
       "      <td>Más de un año</td>\n",
       "      <td>19.0</td>\n",
       "      <td>...</td>\n",
       "      <td>No</td>\n",
       "      <td>No</td>\n",
       "      <td>No</td>\n",
       "      <td>No</td>\n",
       "      <td>No</td>\n",
       "      <td>4.0</td>\n",
       "      <td>Windows</td>\n",
       "      <td>Sí</td>\n",
       "      <td>Sí</td>\n",
       "      <td>Sí</td>\n",
       "    </tr>\n",
       "    <tr>\n",
       "      <th>868</th>\n",
       "      <td>Sí</td>\n",
       "      <td>Femenino</td>\n",
       "      <td>59</td>\n",
       "      <td>Chuquisaca</td>\n",
       "      <td>Sucre</td>\n",
       "      <td>ADEMAR CARVAJAL</td>\n",
       "      <td>normalista</td>\n",
       "      <td>31</td>\n",
       "      <td>Más de un año</td>\n",
       "      <td>15.0</td>\n",
       "      <td>...</td>\n",
       "      <td>Sí</td>\n",
       "      <td>No</td>\n",
       "      <td>No</td>\n",
       "      <td>No</td>\n",
       "      <td>No</td>\n",
       "      <td>4.0</td>\n",
       "      <td>Windows</td>\n",
       "      <td>Sí</td>\n",
       "      <td>Sí</td>\n",
       "      <td>Sí</td>\n",
       "    </tr>\n",
       "    <tr>\n",
       "      <th>869</th>\n",
       "      <td>Sí</td>\n",
       "      <td>Femenino</td>\n",
       "      <td>45</td>\n",
       "      <td>Chuquisaca</td>\n",
       "      <td>Sucre</td>\n",
       "      <td>DOMINGO SAVIO</td>\n",
       "      <td>licenciatura</td>\n",
       "      <td>21</td>\n",
       "      <td>Más de un año</td>\n",
       "      <td>11.0</td>\n",
       "      <td>...</td>\n",
       "      <td>Sí</td>\n",
       "      <td>Sí</td>\n",
       "      <td>Sí</td>\n",
       "      <td>No</td>\n",
       "      <td>Sí</td>\n",
       "      <td>5.0</td>\n",
       "      <td>Windows</td>\n",
       "      <td>Sí</td>\n",
       "      <td>Sí</td>\n",
       "      <td>Sí</td>\n",
       "    </tr>\n",
       "    <tr>\n",
       "      <th>870</th>\n",
       "      <td>Sí</td>\n",
       "      <td>Femenino</td>\n",
       "      <td>40</td>\n",
       "      <td>Chuquisaca</td>\n",
       "      <td>Sucre</td>\n",
       "      <td>ADEMAR CARVAJAL</td>\n",
       "      <td>licenciatura</td>\n",
       "      <td>11</td>\n",
       "      <td>Más de un año</td>\n",
       "      <td>9.0</td>\n",
       "      <td>...</td>\n",
       "      <td>No</td>\n",
       "      <td>No</td>\n",
       "      <td>No</td>\n",
       "      <td>No</td>\n",
       "      <td>No</td>\n",
       "      <td>4.0</td>\n",
       "      <td>Windows</td>\n",
       "      <td>No</td>\n",
       "      <td>Sí</td>\n",
       "      <td>No</td>\n",
       "    </tr>\n",
       "  </tbody>\n",
       "</table>\n",
       "<p>5 rows × 55 columns</p>\n",
       "</div>"
      ],
      "text/plain": [
       "    parte_proyecto_inclusion      sexo  edad departamento ciudad  \\\n",
       "866                       Sí  Femenino    36   Chuquisaca  Sucre   \n",
       "867                       Sí  Femenino    47   Chuquisaca  Sucre   \n",
       "868                       Sí  Femenino    59   Chuquisaca  Sucre   \n",
       "869                       Sí  Femenino    45   Chuquisaca  Sucre   \n",
       "870                       Sí  Femenino    40   Chuquisaca  Sucre   \n",
       "\n",
       "    unidad_educativa nivel_educacion_maximo  anios_experiencia  \\\n",
       "866  JOSEFINA GOYTIA           licenciatura                 10   \n",
       "867  ADEMAR CARVAJAL           licenciatura                 22   \n",
       "868  ADEMAR CARVAJAL             normalista                 31   \n",
       "869    DOMINGO SAVIO           licenciatura                 21   \n",
       "870  ADEMAR CARVAJAL           licenciatura                 11   \n",
       "\n",
       "    tiempo_ue_actual  tiempo_ue_actual_num  ... usa_messenger usa_instagram  \\\n",
       "866    Más de un año                   7.0  ...            No            No   \n",
       "867    Más de un año                  19.0  ...            No            No   \n",
       "868    Más de un año                  15.0  ...            Sí            No   \n",
       "869    Más de un año                  11.0  ...            Sí            Sí   \n",
       "870    Más de un año                   9.0  ...            No            No   \n",
       "\n",
       "    usa_twiter usa_linkedin usa_skype  dias_uso_internet       so  \\\n",
       "866         No           No        No                7.0  Windows   \n",
       "867         No           No        No                4.0  Windows   \n",
       "868         No           No        No                4.0  Windows   \n",
       "869         Sí           No        Sí                5.0  Windows   \n",
       "870         No           No        No                4.0  Windows   \n",
       "\n",
       "     conoce_soft_libre existe_laboratorio sabe_inclusion_digital  \n",
       "866                 No                 No                     Sí  \n",
       "867                 Sí                 Sí                     Sí  \n",
       "868                 Sí                 Sí                     Sí  \n",
       "869                 Sí                 Sí                     Sí  \n",
       "870                 No                 Sí                     No  \n",
       "\n",
       "[5 rows x 55 columns]"
      ]
     },
     "execution_count": 10,
     "metadata": {},
     "output_type": "execute_result"
    }
   ],
   "source": [
    "# ver las primeras y ultimas filas del dataset\n",
    "df.head()\n",
    "df.tail()"
   ]
  },
  {
   "cell_type": "code",
   "execution_count": 3,
   "metadata": {},
   "outputs": [
    {
     "data": {
      "text/plain": [
       "Index(['parte_proyecto_inclusion', 'sexo', 'edad', 'departamento', 'ciudad',\n",
       "       'unidad_educativa', 'nivel_educacion_maximo', 'anios_experiencia',\n",
       "       'tiempo_ue_actual', 'tiempo_ue_actual_num', 'area_imparte',\n",
       "       'paso_curso_tec', 'curso', 'pc_casa', 'laptop_escritorio', 'num_pc',\n",
       "       'tablet', 'num_tablet', 'origen_pc', 'pc_llenado', 'pc_juegos',\n",
       "       'pc_estudio', 'pc_musica', 'pc_redes', 'pc_nada', 'pc_planificar',\n",
       "       'pc_clases', 'pc_videos', 'pc_internet', 'tiene_celular',\n",
       "       'tiene_smartphone', 'cel_llamadas', 'cel_musica', 'cel_juegos',\n",
       "       'cel_fotos', 'cel_redes', 'cel_text', 'cel_videos', 'cel_internet',\n",
       "       'internet_casa', 'internet_movil', 'internet_colegio', 'usa_facebook',\n",
       "       'usa_youtube', 'usa_whatsapp', 'usa_messenger', 'usa_instagram',\n",
       "       'usa_twiter', 'usa_linkedin', 'usa_skype', 'dias_uso_internet', 'so',\n",
       "       'conoce_soft_libre', 'existe_laboratorio', 'sabe_inclusion_digital'],\n",
       "      dtype='object')"
      ]
     },
     "execution_count": 3,
     "metadata": {},
     "output_type": "execute_result"
    }
   ],
   "source": [
    "# ver las variables del dataset\n",
    "df.columns\n",
    "#df.info()"
   ]
  },
  {
   "cell_type": "markdown",
   "metadata": {},
   "source": [
    "### Verificando cantidad de filas y columnas"
   ]
  },
  {
   "cell_type": "code",
   "execution_count": 12,
   "metadata": {},
   "outputs": [
    {
     "data": {
      "text/plain": [
       "(871, 55)"
      ]
     },
     "execution_count": 12,
     "metadata": {},
     "output_type": "execute_result"
    }
   ],
   "source": [
    "#df.info()\n",
    "df.shape"
   ]
  },
  {
   "cell_type": "markdown",
   "metadata": {},
   "source": [
    "### Análisis Exploratorio de Datos"
   ]
  },
  {
   "cell_type": "markdown",
   "metadata": {},
   "source": [
    "### Escogiendo nuestra variable dependiente\n",
    "Se desea proyectar cuantos profesores saben acerca del programa de inclusión digital en base al dataset que se usará para el entrenamiento del modelo."
   ]
  },
  {
   "cell_type": "code",
   "execution_count": 19,
   "metadata": {},
   "outputs": [],
   "source": [
    "df = df.rename(columns={'sabe_inclusion_digital': 'target_y'})"
   ]
  },
  {
   "cell_type": "markdown",
   "metadata": {},
   "source": [
    "### Evaluando variables"
   ]
  },
  {
   "cell_type": "code",
   "execution_count": 20,
   "metadata": {},
   "outputs": [
    {
     "data": {
      "text/plain": [
       "Comunidad y Sociedad                409\n",
       "Ciencia, Tecnología y Producción    192\n",
       "Vida, Tierra y Territorio           160\n",
       "Cosmos y Pensamiento                110\n",
       "Name: area_imparte, dtype: int64"
      ]
     },
     "execution_count": 20,
     "metadata": {},
     "output_type": "execute_result"
    }
   ],
   "source": [
    "df['area_imparte'].value_counts()"
   ]
  },
  {
   "cell_type": "code",
   "execution_count": 21,
   "metadata": {},
   "outputs": [
    {
     "data": {
      "text/plain": [
       "licenciatura    486\n",
       "normalista      172\n",
       "especialidad    148\n",
       "maestria         46\n",
       "tecnico          17\n",
       "doctorado         2\n",
       "Name: nivel_educacion_maximo, dtype: int64"
      ]
     },
     "execution_count": 21,
     "metadata": {},
     "output_type": "execute_result"
    }
   ],
   "source": [
    "df['nivel_educacion_maximo'].value_counts()"
   ]
  },
  {
   "cell_type": "code",
   "execution_count": 22,
   "metadata": {},
   "outputs": [
    {
     "data": {
      "text/plain": [
       "Sí    853\n",
       "No     18\n",
       "Name: pc_casa, dtype: int64"
      ]
     },
     "execution_count": 22,
     "metadata": {},
     "output_type": "execute_result"
    }
   ],
   "source": [
    "df['pc_casa'].value_counts()"
   ]
  },
  {
   "cell_type": "code",
   "execution_count": 23,
   "metadata": {},
   "outputs": [
    {
     "data": {
      "text/plain": [
       "Sí    527\n",
       "No    344\n",
       "Name: pc_internet, dtype: int64"
      ]
     },
     "execution_count": 23,
     "metadata": {},
     "output_type": "execute_result"
    }
   ],
   "source": [
    "df['pc_internet'].value_counts()\n"
   ]
  },
  {
   "cell_type": "markdown",
   "metadata": {},
   "source": [
    "Se muestra el número de observaciones para cada categoria de cada variable del conjunto de datos, además de gráficas descriptivas de variables importantes para el modelado."
   ]
  },
  {
   "cell_type": "code",
   "execution_count": 24,
   "metadata": {},
   "outputs": [
    {
     "data": {
      "text/plain": [
       "Sí    775\n",
       "No     89\n",
       "Name: tiene_smartphone, dtype: int64"
      ]
     },
     "execution_count": 24,
     "metadata": {},
     "output_type": "execute_result"
    }
   ],
   "source": [
    "df['tiene_smartphone'].value_counts()"
   ]
  },
  {
   "cell_type": "code",
   "execution_count": 25,
   "metadata": {},
   "outputs": [
    {
     "data": {
      "text/plain": [
       "licenciatura    486\n",
       "normalista      172\n",
       "especialidad    148\n",
       "maestria         46\n",
       "tecnico          17\n",
       "doctorado         2\n",
       "Name: nivel_educacion_maximo, dtype: int64"
      ]
     },
     "execution_count": 25,
     "metadata": {},
     "output_type": "execute_result"
    }
   ],
   "source": [
    "df['nivel_educacion_maximo'].value_counts()"
   ]
  },
  {
   "cell_type": "code",
   "execution_count": 26,
   "metadata": {},
   "outputs": [
    {
     "data": {
      "text/plain": [
       "Text(0, 0.5, 'Frecuencia de profesores')"
      ]
     },
     "execution_count": 26,
     "metadata": {},
     "output_type": "execute_result"
    },
    {
     "data": {
      "image/png": "[encoded data removed]",
      "text/plain": [
       "<Figure size 360x288 with 1 Axes>"
      ]
     },
     "metadata": {},
     "output_type": "display_data"
    }
   ],
   "source": [
    "# grafica de \n",
    "pd.crosstab(df.nivel_educacion_maximo,df.target_y).plot(kind='bar')\n",
    "plt.title('Frecuencia de profesores por nivel de educación máximo')\n",
    "plt.xlabel('Nivel de educación máximo')\n",
    "plt.ylabel('Frecuencia de profesores')\n",
    "#plt.savefig('purchase_fre_job')"
   ]
  },
  {
   "cell_type": "code",
   "execution_count": 27,
   "metadata": {},
   "outputs": [
    {
     "data": {
      "text/plain": [
       "Text(0, 0.5, 'Frecuencia de profesores')"
      ]
     },
     "execution_count": 27,
     "metadata": {},
     "output_type": "execute_result"
    },
    {
     "data": {
      "image/png": "[encoded data removed]",
      "text/plain": [
       "<Figure size 360x288 with 1 Axes>"
      ]
     },
     "metadata": {},
     "output_type": "display_data"
    }
   ],
   "source": [
    "# grafica de \n",
    "pd.crosstab(df.parte_proyecto_inclusion,df.target_y).plot(kind='bar')\n",
    "plt.title('Frecuencia de profesores que son parte de un proyecto \\n segun conocimiento de la inclusión digital')\n",
    "plt.xlabel('Forma parte de un proyecto de inclusión')\n",
    "plt.ylabel('Frecuencia de profesores')\n",
    "#plt.savefig('purchase_fre_job')"
   ]
  },
  {
   "cell_type": "markdown",
   "metadata": {},
   "source": [
    "### Recategorizacion de variables"
   ]
  },
  {
   "cell_type": "code",
   "execution_count": 28,
   "metadata": {},
   "outputs": [
    {
     "data": {
      "text/html": [
       "<div>\n",
       "<style scoped>\n",
       "    .dataframe tbody tr th:only-of-type {\n",
       "        vertical-align: middle;\n",
       "    }\n",
       "\n",
       "    .dataframe tbody tr th {\n",
       "        vertical-align: top;\n",
       "    }\n",
       "\n",
       "    .dataframe thead th {\n",
       "        text-align: right;\n",
       "    }\n",
       "</style>\n",
       "<table border=\"1\" class=\"dataframe\">\n",
       "  <thead>\n",
       "    <tr style=\"text-align: right;\">\n",
       "      <th></th>\n",
       "      <th>parte_proyecto_inclusion</th>\n",
       "      <th>sexo</th>\n",
       "      <th>edad</th>\n",
       "      <th>departamento</th>\n",
       "      <th>ciudad</th>\n",
       "      <th>unidad_educativa</th>\n",
       "      <th>nivel_educacion_maximo</th>\n",
       "      <th>anios_experiencia</th>\n",
       "      <th>tiempo_ue_actual</th>\n",
       "      <th>tiempo_ue_actual_num</th>\n",
       "      <th>...</th>\n",
       "      <th>dias_uso_internet</th>\n",
       "      <th>so</th>\n",
       "      <th>conoce_soft_libre</th>\n",
       "      <th>existe_laboratorio</th>\n",
       "      <th>target_y</th>\n",
       "      <th>pproyinc</th>\n",
       "      <th>neducmax</th>\n",
       "      <th>gender</th>\n",
       "      <th>pcursotec</th>\n",
       "      <th>areaimpart</th>\n",
       "    </tr>\n",
       "  </thead>\n",
       "  <tbody>\n",
       "    <tr>\n",
       "      <th>0</th>\n",
       "      <td>Sí</td>\n",
       "      <td>Masculino</td>\n",
       "      <td>32</td>\n",
       "      <td>Santa Cruz</td>\n",
       "      <td>Santa Cruz de la Sierra</td>\n",
       "      <td>NACIONAL COTOCA</td>\n",
       "      <td>licenciatura</td>\n",
       "      <td>20</td>\n",
       "      <td>Más de un año</td>\n",
       "      <td>15.0</td>\n",
       "      <td>...</td>\n",
       "      <td>7.0</td>\n",
       "      <td>Windows</td>\n",
       "      <td>Sí</td>\n",
       "      <td>Sí</td>\n",
       "      <td>1</td>\n",
       "      <td>1</td>\n",
       "      <td>2</td>\n",
       "      <td>1</td>\n",
       "      <td>1</td>\n",
       "      <td>0</td>\n",
       "    </tr>\n",
       "    <tr>\n",
       "      <th>1</th>\n",
       "      <td>Sí</td>\n",
       "      <td>Masculino</td>\n",
       "      <td>38</td>\n",
       "      <td>La Paz</td>\n",
       "      <td>El Alto</td>\n",
       "      <td>PRIMAVERA B</td>\n",
       "      <td>licenciatura</td>\n",
       "      <td>19</td>\n",
       "      <td>Más de un año</td>\n",
       "      <td>5.0</td>\n",
       "      <td>...</td>\n",
       "      <td>5.0</td>\n",
       "      <td>Windows</td>\n",
       "      <td>Sí</td>\n",
       "      <td>Sí</td>\n",
       "      <td>1</td>\n",
       "      <td>1</td>\n",
       "      <td>2</td>\n",
       "      <td>1</td>\n",
       "      <td>1</td>\n",
       "      <td>1</td>\n",
       "    </tr>\n",
       "    <tr>\n",
       "      <th>2</th>\n",
       "      <td>Sí</td>\n",
       "      <td>Femenino</td>\n",
       "      <td>54</td>\n",
       "      <td>La Paz</td>\n",
       "      <td>La Paz</td>\n",
       "      <td>DOMINGO FAUSTINO SARMIENTO</td>\n",
       "      <td>especialidad</td>\n",
       "      <td>20</td>\n",
       "      <td>Más de un año</td>\n",
       "      <td>5.0</td>\n",
       "      <td>...</td>\n",
       "      <td>7.0</td>\n",
       "      <td>Linux</td>\n",
       "      <td>Sí</td>\n",
       "      <td>Sí</td>\n",
       "      <td>1</td>\n",
       "      <td>1</td>\n",
       "      <td>1</td>\n",
       "      <td>0</td>\n",
       "      <td>1</td>\n",
       "      <td>1</td>\n",
       "    </tr>\n",
       "    <tr>\n",
       "      <th>3</th>\n",
       "      <td>Sí</td>\n",
       "      <td>Femenino</td>\n",
       "      <td>54</td>\n",
       "      <td>La Paz</td>\n",
       "      <td>La Paz</td>\n",
       "      <td>ABRAHAM REYES FE Y ALEGRIA</td>\n",
       "      <td>licenciatura</td>\n",
       "      <td>26</td>\n",
       "      <td>Menos de un año</td>\n",
       "      <td>NaN</td>\n",
       "      <td>...</td>\n",
       "      <td>5.0</td>\n",
       "      <td>Windows</td>\n",
       "      <td>Sí</td>\n",
       "      <td>Sí</td>\n",
       "      <td>1</td>\n",
       "      <td>1</td>\n",
       "      <td>2</td>\n",
       "      <td>0</td>\n",
       "      <td>1</td>\n",
       "      <td>1</td>\n",
       "    </tr>\n",
       "    <tr>\n",
       "      <th>4</th>\n",
       "      <td>Sí</td>\n",
       "      <td>Masculino</td>\n",
       "      <td>34</td>\n",
       "      <td>La Paz</td>\n",
       "      <td>La Paz</td>\n",
       "      <td>ABRAHAM REYES FE Y ALEGRIA</td>\n",
       "      <td>licenciatura</td>\n",
       "      <td>10</td>\n",
       "      <td>Más de un año</td>\n",
       "      <td>7.0</td>\n",
       "      <td>...</td>\n",
       "      <td>7.0</td>\n",
       "      <td>Windows</td>\n",
       "      <td>Sí</td>\n",
       "      <td>Sí</td>\n",
       "      <td>1</td>\n",
       "      <td>1</td>\n",
       "      <td>2</td>\n",
       "      <td>1</td>\n",
       "      <td>1</td>\n",
       "      <td>0</td>\n",
       "    </tr>\n",
       "  </tbody>\n",
       "</table>\n",
       "<p>5 rows × 60 columns</p>\n",
       "</div>"
      ],
      "text/plain": [
       "  parte_proyecto_inclusion       sexo  edad departamento  \\\n",
       "0                       Sí  Masculino    32   Santa Cruz   \n",
       "1                       Sí  Masculino    38       La Paz   \n",
       "2                       Sí   Femenino    54       La Paz   \n",
       "3                       Sí   Femenino    54       La Paz   \n",
       "4                       Sí  Masculino    34       La Paz   \n",
       "\n",
       "                    ciudad            unidad_educativa nivel_educacion_maximo  \\\n",
       "0  Santa Cruz de la Sierra             NACIONAL COTOCA           licenciatura   \n",
       "1                  El Alto                 PRIMAVERA B           licenciatura   \n",
       "2                   La Paz  DOMINGO FAUSTINO SARMIENTO           especialidad   \n",
       "3                   La Paz  ABRAHAM REYES FE Y ALEGRIA           licenciatura   \n",
       "4                   La Paz  ABRAHAM REYES FE Y ALEGRIA           licenciatura   \n",
       "\n",
       "   anios_experiencia tiempo_ue_actual  tiempo_ue_actual_num  ...  \\\n",
       "0                 20    Más de un año                  15.0  ...   \n",
       "1                 19    Más de un año                   5.0  ...   \n",
       "2                 20    Más de un año                   5.0  ...   \n",
       "3                 26  Menos de un año                   NaN  ...   \n",
       "4                 10    Más de un año                   7.0  ...   \n",
       "\n",
       "  dias_uso_internet       so conoce_soft_libre existe_laboratorio target_y  \\\n",
       "0               7.0  Windows                Sí                 Sí        1   \n",
       "1               5.0  Windows                Sí                 Sí        1   \n",
       "2               7.0    Linux                Sí                 Sí        1   \n",
       "3               5.0  Windows                Sí                 Sí        1   \n",
       "4               7.0  Windows                Sí                 Sí        1   \n",
       "\n",
       "   pproyinc neducmax  gender pcursotec areaimpart  \n",
       "0         1        2       1         1          0  \n",
       "1         1        2       1         1          1  \n",
       "2         1        1       0         1          1  \n",
       "3         1        2       0         1          1  \n",
       "4         1        2       1         1          0  \n",
       "\n",
       "[5 rows x 60 columns]"
      ]
     },
     "execution_count": 28,
     "metadata": {},
     "output_type": "execute_result"
    }
   ],
   "source": [
    "label_encoder = preprocessing.LabelEncoder()\n",
    "df['target_y'] = label_encoder.fit_transform(df['target_y'])\n",
    "df['pproyinc'] = label_encoder.fit_transform(df['parte_proyecto_inclusion'])\n",
    "df['neducmax'] = label_encoder.fit_transform(df['nivel_educacion_maximo'])\n",
    "#df['smartphone'] = label_encoder.fit_transform(df['tiene_smartphone'])\n",
    "df['gender'] = label_encoder.fit_transform(df['sexo'])\n",
    "df['pcursotec'] = label_encoder.fit_transform(df['paso_curso_tec'])\n",
    "df['areaimpart'] = label_encoder.fit_transform(df['area_imparte'])\n",
    "#df['interhouse'] = label_encoder.fit_transform(df['internet_casa'])\n",
    "\n",
    "df.head()"
   ]
  },
  {
   "cell_type": "code",
   "execution_count": 29,
   "metadata": {},
   "outputs": [
    {
     "data": {
      "text/plain": [
       "1    636\n",
       "0    235\n",
       "Name: target_y, dtype: int64"
      ]
     },
     "execution_count": 29,
     "metadata": {},
     "output_type": "execute_result"
    }
   ],
   "source": [
    "#contabilizar las categorias de la variable target\n",
    "df['target_y'].value_counts()"
   ]
  },
  {
   "cell_type": "markdown",
   "metadata": {},
   "source": [
    "### Crear otro dataframe df1 con las variables interesadas"
   ]
  },
  {
   "cell_type": "code",
   "execution_count": 31,
   "metadata": {},
   "outputs": [
    {
     "data": {
      "text/html": [
       "<div>\n",
       "<style scoped>\n",
       "    .dataframe tbody tr th:only-of-type {\n",
       "        vertical-align: middle;\n",
       "    }\n",
       "\n",
       "    .dataframe tbody tr th {\n",
       "        vertical-align: top;\n",
       "    }\n",
       "\n",
       "    .dataframe thead th {\n",
       "        text-align: right;\n",
       "    }\n",
       "</style>\n",
       "<table border=\"1\" class=\"dataframe\">\n",
       "  <thead>\n",
       "    <tr style=\"text-align: right;\">\n",
       "      <th></th>\n",
       "      <th>pproyinc</th>\n",
       "      <th>neducmax</th>\n",
       "      <th>gender</th>\n",
       "      <th>pcursotec</th>\n",
       "      <th>areaimpart</th>\n",
       "      <th>edad</th>\n",
       "      <th>anios_experiencia</th>\n",
       "      <th>target_y</th>\n",
       "    </tr>\n",
       "  </thead>\n",
       "  <tbody>\n",
       "    <tr>\n",
       "      <th>0</th>\n",
       "      <td>1</td>\n",
       "      <td>2</td>\n",
       "      <td>1</td>\n",
       "      <td>1</td>\n",
       "      <td>0</td>\n",
       "      <td>32</td>\n",
       "      <td>20</td>\n",
       "      <td>1</td>\n",
       "    </tr>\n",
       "    <tr>\n",
       "      <th>1</th>\n",
       "      <td>1</td>\n",
       "      <td>2</td>\n",
       "      <td>1</td>\n",
       "      <td>1</td>\n",
       "      <td>1</td>\n",
       "      <td>38</td>\n",
       "      <td>19</td>\n",
       "      <td>1</td>\n",
       "    </tr>\n",
       "    <tr>\n",
       "      <th>2</th>\n",
       "      <td>1</td>\n",
       "      <td>1</td>\n",
       "      <td>0</td>\n",
       "      <td>1</td>\n",
       "      <td>1</td>\n",
       "      <td>54</td>\n",
       "      <td>20</td>\n",
       "      <td>1</td>\n",
       "    </tr>\n",
       "    <tr>\n",
       "      <th>3</th>\n",
       "      <td>1</td>\n",
       "      <td>2</td>\n",
       "      <td>0</td>\n",
       "      <td>1</td>\n",
       "      <td>1</td>\n",
       "      <td>54</td>\n",
       "      <td>26</td>\n",
       "      <td>1</td>\n",
       "    </tr>\n",
       "    <tr>\n",
       "      <th>4</th>\n",
       "      <td>1</td>\n",
       "      <td>2</td>\n",
       "      <td>1</td>\n",
       "      <td>1</td>\n",
       "      <td>0</td>\n",
       "      <td>34</td>\n",
       "      <td>10</td>\n",
       "      <td>1</td>\n",
       "    </tr>\n",
       "  </tbody>\n",
       "</table>\n",
       "</div>"
      ],
      "text/plain": [
       "   pproyinc  neducmax  gender  pcursotec  areaimpart  edad  anios_experiencia  \\\n",
       "0         1         2       1          1           0    32                 20   \n",
       "1         1         2       1          1           1    38                 19   \n",
       "2         1         1       0          1           1    54                 20   \n",
       "3         1         2       0          1           1    54                 26   \n",
       "4         1         2       1          1           0    34                 10   \n",
       "\n",
       "   target_y  \n",
       "0         1  \n",
       "1         1  \n",
       "2         1  \n",
       "3         1  \n",
       "4         1  "
      ]
     },
     "execution_count": 31,
     "metadata": {},
     "output_type": "execute_result"
    }
   ],
   "source": [
    "nomcol = ['pproyinc','neducmax','gender','pcursotec','areaimpart','edad','anios_experiencia','target_y']\n",
    "df1=df[nomcol]\n",
    "df1.head()"
   ]
  },
  {
   "cell_type": "code",
   "execution_count": 35,
   "metadata": {},
   "outputs": [
    {
     "data": {
      "text/html": [
       "<div>\n",
       "<style scoped>\n",
       "    .dataframe tbody tr th:only-of-type {\n",
       "        vertical-align: middle;\n",
       "    }\n",
       "\n",
       "    .dataframe tbody tr th {\n",
       "        vertical-align: top;\n",
       "    }\n",
       "\n",
       "    .dataframe thead th {\n",
       "        text-align: right;\n",
       "    }\n",
       "</style>\n",
       "<table border=\"1\" class=\"dataframe\">\n",
       "  <thead>\n",
       "    <tr style=\"text-align: right;\">\n",
       "      <th></th>\n",
       "      <th>pproyinc</th>\n",
       "      <th>neducmax</th>\n",
       "      <th>gender</th>\n",
       "      <th>pcursotec</th>\n",
       "      <th>areaimpart</th>\n",
       "      <th>edad</th>\n",
       "      <th>anios_experiencia</th>\n",
       "    </tr>\n",
       "  </thead>\n",
       "  <tbody>\n",
       "    <tr>\n",
       "      <th>0</th>\n",
       "      <td>1</td>\n",
       "      <td>2</td>\n",
       "      <td>1</td>\n",
       "      <td>1</td>\n",
       "      <td>0</td>\n",
       "      <td>32</td>\n",
       "      <td>20</td>\n",
       "    </tr>\n",
       "    <tr>\n",
       "      <th>1</th>\n",
       "      <td>1</td>\n",
       "      <td>2</td>\n",
       "      <td>1</td>\n",
       "      <td>1</td>\n",
       "      <td>1</td>\n",
       "      <td>38</td>\n",
       "      <td>19</td>\n",
       "    </tr>\n",
       "    <tr>\n",
       "      <th>2</th>\n",
       "      <td>1</td>\n",
       "      <td>1</td>\n",
       "      <td>0</td>\n",
       "      <td>1</td>\n",
       "      <td>1</td>\n",
       "      <td>54</td>\n",
       "      <td>20</td>\n",
       "    </tr>\n",
       "    <tr>\n",
       "      <th>3</th>\n",
       "      <td>1</td>\n",
       "      <td>2</td>\n",
       "      <td>0</td>\n",
       "      <td>1</td>\n",
       "      <td>1</td>\n",
       "      <td>54</td>\n",
       "      <td>26</td>\n",
       "    </tr>\n",
       "    <tr>\n",
       "      <th>4</th>\n",
       "      <td>1</td>\n",
       "      <td>2</td>\n",
       "      <td>1</td>\n",
       "      <td>1</td>\n",
       "      <td>0</td>\n",
       "      <td>34</td>\n",
       "      <td>10</td>\n",
       "    </tr>\n",
       "  </tbody>\n",
       "</table>\n",
       "</div>"
      ],
      "text/plain": [
       "   pproyinc  neducmax  gender  pcursotec  areaimpart  edad  anios_experiencia\n",
       "0         1         2       1          1           0    32                 20\n",
       "1         1         2       1          1           1    38                 19\n",
       "2         1         1       0          1           1    54                 20\n",
       "3         1         2       0          1           1    54                 26\n",
       "4         1         2       1          1           0    34                 10"
      ]
     },
     "execution_count": 35,
     "metadata": {},
     "output_type": "execute_result"
    }
   ],
   "source": [
    "X= df1[df1.columns[:-1]]\n",
    "y= df1['target_y']\n",
    "X.head()\n"
   ]
  },
  {
   "cell_type": "markdown",
   "metadata": {},
   "source": [
    "### Aplicación de la técnica Naive Bayes"
   ]
  },
  {
   "cell_type": "code",
   "execution_count": 36,
   "metadata": {},
   "outputs": [],
   "source": [
    "# preparacion de la data de aprendizaje y de testeo\n",
    "X_train, X_test, y_train, y_test = train_test_split(X, y, test_size=0.3, random_state=25)"
   ]
  },
  {
   "cell_type": "code",
   "execution_count": 44,
   "metadata": {},
   "outputs": [
    {
     "name": "stdout",
     "output_type": "stream",
     "text": [
      "[2 6 2 2 4]\n"
     ]
    }
   ],
   "source": [
    "# inicializacion de la técnica\n",
    "clf = MixedNB(categorical_features=[0,1,2,3,4])\n",
    "# aplicación \n",
    "clf.fit(X_train,y_train)\n",
    "# aplicacion de la técnica de naive bayes en modo testeo (predicción)\n",
    "y_pred = clf.predict(X_test)\n",
    "#y_pred"
   ]
  },
  {
   "cell_type": "markdown",
   "metadata": {},
   "source": [
    "### Evaluación de la técnica de Naive Bayes"
   ]
  },
  {
   "cell_type": "code",
   "execution_count": 45,
   "metadata": {},
   "outputs": [
    {
     "name": "stdout",
     "output_type": "stream",
     "text": [
      "0.7824427480916031\n"
     ]
    }
   ],
   "source": [
    "# calcular la precisión de la técnica\n",
    "print(accuracy_score(y_test, y_pred))"
   ]
  },
  {
   "cell_type": "markdown",
   "metadata": {},
   "source": [
    "## Conclusiones"
   ]
  },
  {
   "cell_type": "markdown",
   "metadata": {},
   "source": [
    "* Con la técnica de Naive Bayes se puede clasificar el conocimiento el concepto de inclusión digital en sus respectivas categorias segun el procedimiento del método de clasificaciónón Bayesiana, llegando a un 78% en su precisión.\n",
    "* Con las variables admitidas como data de entrada en la técnica utilizada se pudo constatar que el conocimiento de la inclusión digital depende de caracteristicas de profesores que forman parte de proyecto, tienen un nivel de educación alto, forman parte de un área de conocimiento fuera  su formación fuera de la digital y si pasaron cursos de técnología  informática digital."
   ]
  }
 ],
 "metadata": {
  "kernelspec": {
   "display_name": "Python 3",
   "language": "python",
   "name": "python3"
  },
  "language_info": {
   "codemirror_mode": {
    "name": "ipython",
    "version": 3
   },
   "file_extension": ".py",
   "mimetype": "text/x-python",
   "name": "python",
   "nbconvert_exporter": "python",
   "pygments_lexer": "ipython3",
   "version": "3.8.3"
  }
 },
 "nbformat": 4,
 "nbformat_minor": 2
}
